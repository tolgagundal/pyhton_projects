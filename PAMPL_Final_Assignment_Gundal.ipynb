{
  "nbformat": 4,
  "nbformat_minor": 0,
  "metadata": {
    "colab": {
      "provenance": [],
      "authorship_tag": "ABX9TyPzzZhOpOrj6H1lsEdKwPFU",
      "include_colab_link": true
    },
    "kernelspec": {
      "name": "python3",
      "display_name": "Python 3"
    },
    "language_info": {
      "name": "python"
    }
  },
  "cells": [
    {
      "cell_type": "markdown",
      "metadata": {
        "id": "view-in-github",
        "colab_type": "text"
      },
      "source": [
        "<a href=\"https://colab.research.google.com/github/tolgagundal/pyhton_projects/blob/main/PAMPL_Final_Assignment_Gundal.ipynb\" target=\"_parent\"><img src=\"https://colab.research.google.com/assets/colab-badge.svg\" alt=\"Open In Colab\"/></a>"
      ]
    },
    {
      "cell_type": "code",
      "execution_count": null,
      "metadata": {
        "colab": {
          "base_uri": "https://localhost:8080/"
        },
        "id": "uXQAbrELLO7S",
        "outputId": "4caea94f-cf82-4593-8a00-25211dcc46ee"
      },
      "outputs": [
        {
          "output_type": "stream",
          "name": "stdout",
          "text": [
            "<class 'pandas.core.frame.DataFrame'>\n",
            "RangeIndex: 1151 entries, 0 to 1150\n",
            "Data columns (total 7 columns):\n",
            " #   Column    Non-Null Count  Dtype  \n",
            "---  ------    --------------  -----  \n",
            " 0   Date      1151 non-null   object \n",
            " 1   Open      1151 non-null   float64\n",
            " 2   High      1151 non-null   float64\n",
            " 3   Low       1151 non-null   float64\n",
            " 4   Close     1151 non-null   float64\n",
            " 5   Volume    1151 non-null   int64  \n",
            " 6   Currency  1151 non-null   object \n",
            "dtypes: float64(4), int64(1), object(2)\n",
            "memory usage: 63.1+ KB\n"
          ]
        }
      ],
      "source": [
        "import pandas as pd\n",
        "import matplotlib.pyplot as plt\n",
        "import seaborn as sns\n",
        "\n",
        "# Loading Bitcoin dataset\n",
        "bitcoin_df = pd.read_csv(\"/content/Bitcoin dataset.csv\")\n",
        "\n",
        "\n",
        "# Displaying basic information about the dataset\n",
        "bitcoin_info = bitcoin_df.info()\n",
        "bitcoin_head = bitcoin_df.head()"
      ]
    },
    {
      "cell_type": "code",
      "source": [
        "print(bitcoin_head) # Displaying the top 5 rows"
      ],
      "metadata": {
        "colab": {
          "base_uri": "https://localhost:8080/"
        },
        "id": "WeY_lPNxLavi",
        "outputId": "4d5b31ae-853a-4f25-eb9d-a761edb63c63"
      },
      "execution_count": null,
      "outputs": [
        {
          "output_type": "stream",
          "name": "stdout",
          "text": [
            "         Date          Open          High           Low         Close  Volume  \\\n",
            "0  18/06/2019   9128.269531   9149.763672   8988.606445   9062.045898  952850   \n",
            "1  19/06/2019   9068.174805   9277.677734   9051.094727   9271.459961  131077   \n",
            "2  20/06/2019   9271.567383   9573.689453   9209.416992   9519.200195   83052   \n",
            "3  21/06/2019   9526.833984  10130.935550   9526.833984  10127.998050   76227   \n",
            "4  22/06/2019  10151.890630  11171.013670  10083.189450  10719.981450   84485   \n",
            "\n",
            "  Currency  \n",
            "0      USD  \n",
            "1      USD  \n",
            "2      USD  \n",
            "3      USD  \n",
            "4      USD  \n"
          ]
        }
      ]
    },
    {
      "cell_type": "code",
      "source": [
        "import pandas as pd\n",
        "import matplotlib.pyplot as plt\n",
        "import seaborn as sns\n",
        "\n",
        "# Loading Bitcoin (BTC) dataset\n",
        "bitcoin_df = pd.read_csv(\"/content/Bitcoin dataset.csv\")\n",
        "\n",
        "# Displaying basic information about the dataset\n",
        "bitcoin_info = bitcoin_df.info()\n",
        "bitcoin_head = bitcoin_df.head()\n",
        "\n",
        "# Checking for missing values\n",
        "missing_values = bitcoin_df.isnull().sum()\n",
        "\n",
        "# Creating descriptive statistics\n",
        "descriptive_stats = bitcoin_df.describe()\n",
        "\n",
        "# Converting 'Date' column to datetime format for time-series analysis\n",
        "bitcoin_df['Date'] = pd.to_datetime(bitcoin_df['Date'])\n",
        "\n",
        "# Sorting dataset by date to maintain chronological order\n",
        "bitcoin_df = bitcoin_df.sort_values(by='Date')\n",
        "\n",
        "# Plotting Bitcoin closing price over time\n",
        "plt.figure(figsize=(12, 6))\n",
        "plt.plot(bitcoin_df['Date'], bitcoin_df['Close'], label=\"Bitcoin Closing Price\", color='skyblue')\n",
        "plt.xlabel(\"Date\")\n",
        "plt.ylabel(\"Closing Price (USD)\")\n",
        "plt.title(\"Bitcoin Price Trend Over Time\")\n",
        "plt.legend()\n",
        "plt.grid(True)\n",
        "plt.show()\n",
        "\n",
        "# Display the outputs of BTC\n",
        "bitcoin_info, bitcoin_head, missing_values, descriptive_stats\n"
      ],
      "metadata": {
        "id": "7gEeDzA9M1T0",
        "colab": {
          "base_uri": "https://localhost:8080/",
          "height": 1000
        },
        "outputId": "83a4a84c-631e-438e-963a-1ed5492b6c48"
      },
      "execution_count": null,
      "outputs": [
        {
          "output_type": "stream",
          "name": "stdout",
          "text": [
            "<class 'pandas.core.frame.DataFrame'>\n",
            "RangeIndex: 1151 entries, 0 to 1150\n",
            "Data columns (total 7 columns):\n",
            " #   Column    Non-Null Count  Dtype  \n",
            "---  ------    --------------  -----  \n",
            " 0   Date      1151 non-null   object \n",
            " 1   Open      1151 non-null   float64\n",
            " 2   High      1151 non-null   float64\n",
            " 3   Low       1151 non-null   float64\n",
            " 4   Close     1151 non-null   float64\n",
            " 5   Volume    1151 non-null   int64  \n",
            " 6   Currency  1151 non-null   object \n",
            "dtypes: float64(4), int64(1), object(2)\n",
            "memory usage: 63.1+ KB\n"
          ]
        },
        {
          "output_type": "stream",
          "name": "stderr",
          "text": [
            "<ipython-input-4-2d101a383a34>:19: UserWarning: Parsing dates in %d/%m/%Y format when dayfirst=False (the default) was specified. Pass `dayfirst=True` or specify a format to silence this warning.\n",
            "  bitcoin_df['Date'] = pd.to_datetime(bitcoin_df['Date'])\n"
          ]
        },
        {
          "output_type": "display_data",
          "data": {
            "text/plain": [
              "<Figure size 1200x600 with 1 Axes>"
            ],
            "image/png": "[encoded data removed]"
          },
          "metadata": {}
        },
        {
          "output_type": "execute_result",
          "data": {
            "text/plain": [
              "(None,\n",
              "          Date          Open          High           Low         Close  Volume  \\\n",
              " 0  18/06/2019   9128.269531   9149.763672   8988.606445   9062.045898  952850   \n",
              " 1  19/06/2019   9068.174805   9277.677734   9051.094727   9271.459961  131077   \n",
              " 2  20/06/2019   9271.567383   9573.689453   9209.416992   9519.200195   83052   \n",
              " 3  21/06/2019   9526.833984  10130.935550   9526.833984  10127.998050   76227   \n",
              " 4  22/06/2019  10151.890630  11171.013670  10083.189450  10719.981450   84485   \n",
              " \n",
              "   Currency  \n",
              " 0      USD  \n",
              " 1      USD  \n",
              " 2      USD  \n",
              " 3      USD  \n",
              " 4      USD  ,\n",
              " Date        0\n",
              " Open        0\n",
              " High        0\n",
              " Low         0\n",
              " Close       0\n",
              " Volume      0\n",
              " Currency    0\n",
              " dtype: int64,\n",
              "                Open          High           Low         Close        Volume\n",
              " count   1151.000000   1151.000000   1151.000000   1151.000000  1.151000e+03\n",
              " mean   26488.652992  27528.416711  25416.606968  26496.733083  2.874051e+07\n",
              " std    17963.101635  18432.925247  17484.604545  17952.113609  5.202999e+07\n",
              " min     4943.832520   5338.512695      0.076853   4936.755371  0.000000e+00\n",
              " 25%     9706.758301  10090.012695   9360.636231   9712.636719  7.495500e+03\n",
              " 50%    20873.337890  21867.822270  20245.201170  20902.404300  1.864334e+06\n",
              " 75%    41782.333985  42749.439455  40890.394530  41782.333985  4.076471e+07\n",
              " max    67470.437500  85563.984380  66072.343750  67502.421880  5.791706e+08)"
            ]
          },
          "metadata": {},
          "execution_count": 4
        }
      ]
    },
    {
      "cell_type": "code",
      "source": [],
      "metadata": {
        "id": "pbxdmQNwPJkZ"
      },
      "execution_count": null,
      "outputs": []
    },
    {
      "cell_type": "code",
      "source": [
        "# Converting 'Date' column to datetime format for time-series analysis\n",
        "bitcoin_df['Date'] = pd.to_datetime(bitcoin_df['Date'])\n",
        "# sort by date\n",
        "data = bitcoin_df.sort_values(by='Date')\n",
        "# Display the first 5 columns\n",
        "data.head()"
      ],
      "metadata": {
        "colab": {
          "base_uri": "https://localhost:8080/",
          "height": 206
        },
        "id": "nEr2G5IIn7Ik",
        "outputId": "6d41ddf3-4c10-44b7-cdab-3b4b855cca35"
      },
      "execution_count": null,
      "outputs": [
        {
          "output_type": "execute_result",
          "data": {
            "text/plain": [
              "        Date          Open          High           Low         Close  Volume  \\\n",
              "0 2019-06-18   9128.269531   9149.763672   8988.606445   9062.045898  952850   \n",
              "1 2019-06-19   9068.174805   9277.677734   9051.094727   9271.459961  131077   \n",
              "2 2019-06-20   9271.567383   9573.689453   9209.416992   9519.200195   83052   \n",
              "3 2019-06-21   9526.833984  10130.935550   9526.833984  10127.998050   76227   \n",
              "4 2019-06-22  10151.890630  11171.013670  10083.189450  10719.981450   84485   \n",
              "\n",
              "  Currency  \n",
              "0      USD  \n",
              "1      USD  \n",
              "2      USD  \n",
              "3      USD  \n",
              "4      USD  "
            ],
            "text/html": [
              "\n",
              "  <div id=\"df-05cededa-a69a-47c0-a895-bef8a8caaae5\" class=\"colab-df-container\">\n",
              "    <div>\n",
              "<style scoped>\n",
              "    .dataframe tbody tr th:only-of-type {\n",
              "        vertical-align: middle;\n",
              "    }\n",
              "\n",
              "    .dataframe tbody tr th {\n",
              "        vertical-align: top;\n",
              "    }\n",
              "\n",
              "    .dataframe thead th {\n",
              "        text-align: right;\n",
              "    }\n",
              "</style>\n",
              "<table border=\"1\" class=\"dataframe\">\n",
              "  <thead>\n",
              "    <tr style=\"text-align: right;\">\n",
              "      <th></th>\n",
              "      <th>Date</th>\n",
              "      <th>Open</th>\n",
              "      <th>High</th>\n",
              "      <th>Low</th>\n",
              "      <th>Close</th>\n",
              "      <th>Volume</th>\n",
              "      <th>Currency</th>\n",
              "    </tr>\n",
              "  </thead>\n",
              "  <tbody>\n",
              "    <tr>\n",
              "      <th>0</th>\n",
              "      <td>2019-06-18</td>\n",
              "      <td>9128.269531</td>\n",
              "      <td>9149.763672</td>\n",
              "      <td>8988.606445</td>\n",
              "      <td>9062.045898</td>\n",
              "      <td>952850</td>\n",
              "      <td>USD</td>\n",
              "    </tr>\n",
              "    <tr>\n",
              "      <th>1</th>\n",
              "      <td>2019-06-19</td>\n",
              "      <td>9068.174805</td>\n",
              "      <td>9277.677734</td>\n",
              "      <td>9051.094727</td>\n",
              "      <td>9271.459961</td>\n",
              "      <td>131077</td>\n",
              "      <td>USD</td>\n",
              "    </tr>\n",
              "    <tr>\n",
              "      <th>2</th>\n",
              "      <td>2019-06-20</td>\n",
              "      <td>9271.567383</td>\n",
              "      <td>9573.689453</td>\n",
              "      <td>9209.416992</td>\n",
              "      <td>9519.200195</td>\n",
              "      <td>83052</td>\n",
              "      <td>USD</td>\n",
              "    </tr>\n",
              "    <tr>\n",
              "      <th>3</th>\n",
              "      <td>2019-06-21</td>\n",
              "      <td>9526.833984</td>\n",
              "      <td>10130.935550</td>\n",
              "      <td>9526.833984</td>\n",
              "      <td>10127.998050</td>\n",
              "      <td>76227</td>\n",
              "      <td>USD</td>\n",
              "    </tr>\n",
              "    <tr>\n",
              "      <th>4</th>\n",
              "      <td>2019-06-22</td>\n",
              "      <td>10151.890630</td>\n",
              "      <td>11171.013670</td>\n",
              "      <td>10083.189450</td>\n",
              "      <td>10719.981450</td>\n",
              "      <td>84485</td>\n",
              "      <td>USD</td>\n",
              "    </tr>\n",
              "  </tbody>\n",
              "</table>\n",
              "</div>\n",
              "    <div class=\"colab-df-buttons\">\n",
              "\n",
              "  <div class=\"colab-df-container\">\n",
              "    <button class=\"colab-df-convert\" onclick=\"convertToInteractive('df-05cededa-a69a-47c0-a895-bef8a8caaae5')\"\n",
              "            title=\"Convert this dataframe to an interactive table.\"\n",
              "            style=\"display:none;\">\n",
              "\n",
              "  <svg xmlns=\"http://www.w3.org/2000/svg\" height=\"24px\" viewBox=\"0 -960 960 960\">\n",
              "    <path d=\"M120-120v-720h720v720H120Zm60-500h600v-160H180v160Zm220 220h160v-160H400v160Zm0 220h160v-160H400v160ZM180-400h160v-160H180v160Zm440 0h160v-160H620v160ZM180-180h160v-160H180v160Zm440 0h160v-160H620v160Z\"/>\n",
              "  </svg>\n",
              "    </button>\n",
              "\n",
              "  <style>\n",
              "    .colab-df-container {\n",
              "      display:flex;\n",
              "      gap: 12px;\n",
              "    }\n",
              "\n",
              "    .colab-df-convert {\n",
              "      background-color: #E8F0FE;\n",
              "      border: none;\n",
              "      border-radius: 50%;\n",
              "      cursor: pointer;\n",
              "      display: none;\n",
              "      fill: #1967D2;\n",
              "      height: 32px;\n",
              "      padding: 0 0 0 0;\n",
              "      width: 32px;\n",
              "    }\n",
              "\n",
              "    .colab-df-convert:hover {\n",
              "      background-color: #E2EBFA;\n",
              "      box-shadow: 0px 1px 2px rgba(60, 64, 67, 0.3), 0px 1px 3px 1px rgba(60, 64, 67, 0.15);\n",
              "      fill: #174EA6;\n",
              "    }\n",
              "\n",
              "    .colab-df-buttons div {\n",
              "      margin-bottom: 4px;\n",
              "    }\n",
              "\n",
              "    [theme=dark] .colab-df-convert {\n",
              "      background-color: #3B4455;\n",
              "      fill: #D2E3FC;\n",
              "    }\n",
              "\n",
              "    [theme=dark] .colab-df-convert:hover {\n",
              "      background-color: #434B5C;\n",
              "      box-shadow: 0px 1px 3px 1px rgba(0, 0, 0, 0.15);\n",
              "      filter: drop-shadow(0px 1px 2px rgba(0, 0, 0, 0.3));\n",
              "      fill: #FFFFFF;\n",
              "    }\n",
              "  </style>\n",
              "\n",
              "    <script>\n",
              "      const buttonEl =\n",
              "        document.querySelector('#df-05cededa-a69a-47c0-a895-bef8a8caaae5 button.colab-df-convert');\n",
              "      buttonEl.style.display =\n",
              "        google.colab.kernel.accessAllowed ? 'block' : 'none';\n",
              "\n",
              "      async function convertToInteractive(key) {\n",
              "        const element = document.querySelector('#df-05cededa-a69a-47c0-a895-bef8a8caaae5');\n",
              "        const dataTable =\n",
              "          await google.colab.kernel.invokeFunction('convertToInteractive',\n",
              "                                                    [key], {});\n",
              "        if (!dataTable) return;\n",
              "\n",
              "        const docLinkHtml = 'Like what you see? Visit the ' +\n",
              "          '<a target=\"_blank\" href=https://colab.research.google.com/notebooks/data_table.ipynb>data table notebook</a>'\n",
              "          + ' to learn more about interactive tables.';\n",
              "        element.innerHTML = '';\n",
              "        dataTable['output_type'] = 'display_data';\n",
              "        await google.colab.output.renderOutput(dataTable, element);\n",
              "        const docLink = document.createElement('div');\n",
              "        docLink.innerHTML = docLinkHtml;\n",
              "        element.appendChild(docLink);\n",
              "      }\n",
              "    </script>\n",
              "  </div>\n",
              "\n",
              "\n",
              "<div id=\"df-6c0baf55-a4de-430f-a575-7d0ecc3e7e6d\">\n",
              "  <button class=\"colab-df-quickchart\" onclick=\"quickchart('df-6c0baf55-a4de-430f-a575-7d0ecc3e7e6d')\"\n",
              "            title=\"Suggest charts\"\n",
              "            style=\"display:none;\">\n",
              "\n",
              "<svg xmlns=\"http://www.w3.org/2000/svg\" height=\"24px\"viewBox=\"0 0 24 24\"\n",
              "     width=\"24px\">\n",
              "    <g>\n",
              "        <path d=\"M19 3H5c-1.1 0-2 .9-2 2v14c0 1.1.9 2 2 2h14c1.1 0 2-.9 2-2V5c0-1.1-.9-2-2-2zM9 17H7v-7h2v7zm4 0h-2V7h2v10zm4 0h-2v-4h2v4z\"/>\n",
              "    </g>\n",
              "</svg>\n",
              "  </button>\n",
              "\n",
              "<style>\n",
              "  .colab-df-quickchart {\n",
              "      --bg-color: #E8F0FE;\n",
              "      --fill-color: #1967D2;\n",
              "      --hover-bg-color: #E2EBFA;\n",
              "      --hover-fill-color: #174EA6;\n",
              "      --disabled-fill-color: #AAA;\n",
              "      --disabled-bg-color: #DDD;\n",
              "  }\n",
              "\n",
              "  [theme=dark] .colab-df-quickchart {\n",
              "      --bg-color: #3B4455;\n",
              "      --fill-color: #D2E3FC;\n",
              "      --hover-bg-color: #434B5C;\n",
              "      --hover-fill-color: #FFFFFF;\n",
              "      --disabled-bg-color: #3B4455;\n",
              "      --disabled-fill-color: #666;\n",
              "  }\n",
              "\n",
              "  .colab-df-quickchart {\n",
              "    background-color: var(--bg-color);\n",
              "    border: none;\n",
              "    border-radius: 50%;\n",
              "    cursor: pointer;\n",
              "    display: none;\n",
              "    fill: var(--fill-color);\n",
              "    height: 32px;\n",
              "    padding: 0;\n",
              "    width: 32px;\n",
              "  }\n",
              "\n",
              "  .colab-df-quickchart:hover {\n",
              "    background-color: var(--hover-bg-color);\n",
              "    box-shadow: 0 1px 2px rgba(60, 64, 67, 0.3), 0 1px 3px 1px rgba(60, 64, 67, 0.15);\n",
              "    fill: var(--button-hover-fill-color);\n",
              "  }\n",
              "\n",
              "  .colab-df-quickchart-complete:disabled,\n",
              "  .colab-df-quickchart-complete:disabled:hover {\n",
              "    background-color: var(--disabled-bg-color);\n",
              "    fill: var(--disabled-fill-color);\n",
              "    box-shadow: none;\n",
              "  }\n",
              "\n",
              "  .colab-df-spinner {\n",
              "    border: 2px solid var(--fill-color);\n",
              "    border-color: transparent;\n",
              "    border-bottom-color: var(--fill-color);\n",
              "    animation:\n",
              "      spin 1s steps(1) infinite;\n",
              "  }\n",
              "\n",
              "  @keyframes spin {\n",
              "    0% {\n",
              "      border-color: transparent;\n",
              "      border-bottom-color: var(--fill-color);\n",
              "      border-left-color: var(--fill-color);\n",
              "    }\n",
              "    20% {\n",
              "      border-color: transparent;\n",
              "      border-left-color: var(--fill-color);\n",
              "      border-top-color: var(--fill-color);\n",
              "    }\n",
              "    30% {\n",
              "      border-color: transparent;\n",
              "      border-left-color: var(--fill-color);\n",
              "      border-top-color: var(--fill-color);\n",
              "      border-right-color: var(--fill-color);\n",
              "    }\n",
              "    40% {\n",
              "      border-color: transparent;\n",
              "      border-right-color: var(--fill-color);\n",
              "      border-top-color: var(--fill-color);\n",
              "    }\n",
              "    60% {\n",
              "      border-color: transparent;\n",
              "      border-right-color: var(--fill-color);\n",
              "    }\n",
              "    80% {\n",
              "      border-color: transparent;\n",
              "      border-right-color: var(--fill-color);\n",
              "      border-bottom-color: var(--fill-color);\n",
              "    }\n",
              "    90% {\n",
              "      border-color: transparent;\n",
              "      border-bottom-color: var(--fill-color);\n",
              "    }\n",
              "  }\n",
              "</style>\n",
              "\n",
              "  <script>\n",
              "    async function quickchart(key) {\n",
              "      const quickchartButtonEl =\n",
              "        document.querySelector('#' + key + ' button');\n",
              "      quickchartButtonEl.disabled = true;  // To prevent multiple clicks.\n",
              "      quickchartButtonEl.classList.add('colab-df-spinner');\n",
              "      try {\n",
              "        const charts = await google.colab.kernel.invokeFunction(\n",
              "            'suggestCharts', [key], {});\n",
              "      } catch (error) {\n",
              "        console.error('Error during call to suggestCharts:', error);\n",
              "      }\n",
              "      quickchartButtonEl.classList.remove('colab-df-spinner');\n",
              "      quickchartButtonEl.classList.add('colab-df-quickchart-complete');\n",
              "    }\n",
              "    (() => {\n",
              "      let quickchartButtonEl =\n",
              "        document.querySelector('#df-6c0baf55-a4de-430f-a575-7d0ecc3e7e6d button');\n",
              "      quickchartButtonEl.style.display =\n",
              "        google.colab.kernel.accessAllowed ? 'block' : 'none';\n",
              "    })();\n",
              "  </script>\n",
              "</div>\n",
              "\n",
              "    </div>\n",
              "  </div>\n"
            ],
            "application/vnd.google.colaboratory.intrinsic+json": {
              "type": "dataframe",
              "variable_name": "data",
              "summary": "{\n  \"name\": \"data\",\n  \"rows\": 1151,\n  \"fields\": [\n    {\n      \"column\": \"Date\",\n      \"properties\": {\n        \"dtype\": \"date\",\n        \"min\": \"2019-06-18 00:00:00\",\n        \"max\": \"2022-08-23 00:00:00\",\n        \"num_unique_values\": 1151,\n        \"samples\": [\n          \"2019-12-09 00:00:00\",\n          \"2021-07-09 00:00:00\",\n          \"2020-09-27 00:00:00\"\n        ],\n        \"semantic_type\": \"\",\n        \"description\": \"\"\n      }\n    },\n    {\n      \"column\": \"Open\",\n      \"properties\": {\n        \"dtype\": \"number\",\n        \"std\": 17963.101635264182,\n        \"min\": 4943.83252,\n        \"max\": 67470.4375,\n        \"num_unique_values\": 1151,\n        \"samples\": [\n          7550.476563,\n          32814.17578,\n          10729.36816\n        ],\n        \"semantic_type\": \"\",\n        \"description\": \"\"\n      }\n    },\n    {\n      \"column\": \"High\",\n      \"properties\": {\n        \"dtype\": \"number\",\n        \"std\": 18432.92524676038,\n        \"min\": 5338.512695,\n        \"max\": 85563.98438,\n        \"num_unique_values\": 1150,\n        \"samples\": [\n          7655.212891,\n          34047.07031,\n          10930.9707\n        ],\n        \"semantic_type\": \"\",\n        \"description\": \"\"\n      }\n    },\n    {\n      \"column\": \"Low\",\n      \"properties\": {\n        \"dtype\": \"number\",\n        \"std\": 17484.604544962647,\n        \"min\": 0.076853,\n        \"max\": 66072.34375,\n        \"num_unique_values\": 1151,\n        \"samples\": [\n          7402.172852,\n          32320.95117,\n          10553.4707\n        ],\n        \"semantic_type\": \"\",\n        \"description\": \"\"\n      }\n    },\n    {\n      \"column\": \"Close\",\n      \"properties\": {\n        \"dtype\": \"number\",\n        \"std\": 17952.113609311175,\n        \"min\": 4936.755371,\n        \"max\": 67502.42188,\n        \"num_unique_values\": 1151,\n        \"samples\": [\n          7442.616699,\n          33965.68359,\n          10864.6875\n        ],\n        \"semantic_type\": \"\",\n        \"description\": \"\"\n      }\n    },\n    {\n      \"column\": \"Volume\",\n      \"properties\": {\n        \"dtype\": \"number\",\n        \"std\": 52029986,\n        \"min\": 0,\n        \"max\": 579170589,\n        \"num_unique_values\": 1144,\n        \"samples\": [\n          2461,\n          41265840,\n          428942\n        ],\n        \"semantic_type\": \"\",\n        \"description\": \"\"\n      }\n    },\n    {\n      \"column\": \"Currency\",\n      \"properties\": {\n        \"dtype\": \"category\",\n        \"num_unique_values\": 1,\n        \"samples\": [\n          \"USD\"\n        ],\n        \"semantic_type\": \"\",\n        \"description\": \"\"\n      }\n    }\n  ]\n}"
            }
          },
          "metadata": {},
          "execution_count": 5
        }
      ]
    },
    {
      "cell_type": "code",
      "source": [
        "# Re-loading the necessary libraries\n",
        "import pandas as pd\n",
        "import matplotlib.pyplot as plt\n",
        "import seaborn as sns\n",
        "\n",
        "# Re-loading the Bitcoin dataset\n",
        "bitcoin_df = pd.read_csv(\"/content/Bitcoin dataset.csv\")\n",
        "\n",
        "# Checking for missing values in the dataset\n",
        "missing_values = bitcoin_df.isnull().sum()\n",
        "\n",
        "# Displaying the missing values summary\n",
        "missing_values\n"
      ],
      "metadata": {
        "colab": {
          "base_uri": "https://localhost:8080/",
          "height": 303
        },
        "id": "5RaC1VqcPLL5",
        "outputId": "4480d5a9-211c-444a-9c37-e2af67a0416f"
      },
      "execution_count": null,
      "outputs": [
        {
          "output_type": "execute_result",
          "data": {
            "text/plain": [
              "Date        0\n",
              "Open        0\n",
              "High        0\n",
              "Low         0\n",
              "Close       0\n",
              "Volume      0\n",
              "Currency    0\n",
              "dtype: int64"
            ],
            "text/html": [
              "<div>\n",
              "<style scoped>\n",
              "    .dataframe tbody tr th:only-of-type {\n",
              "        vertical-align: middle;\n",
              "    }\n",
              "\n",
              "    .dataframe tbody tr th {\n",
              "        vertical-align: top;\n",
              "    }\n",
              "\n",
              "    .dataframe thead th {\n",
              "        text-align: right;\n",
              "    }\n",
              "</style>\n",
              "<table border=\"1\" class=\"dataframe\">\n",
              "  <thead>\n",
              "    <tr style=\"text-align: right;\">\n",
              "      <th></th>\n",
              "      <th>0</th>\n",
              "    </tr>\n",
              "  </thead>\n",
              "  <tbody>\n",
              "    <tr>\n",
              "      <th>Date</th>\n",
              "      <td>0</td>\n",
              "    </tr>\n",
              "    <tr>\n",
              "      <th>Open</th>\n",
              "      <td>0</td>\n",
              "    </tr>\n",
              "    <tr>\n",
              "      <th>High</th>\n",
              "      <td>0</td>\n",
              "    </tr>\n",
              "    <tr>\n",
              "      <th>Low</th>\n",
              "      <td>0</td>\n",
              "    </tr>\n",
              "    <tr>\n",
              "      <th>Close</th>\n",
              "      <td>0</td>\n",
              "    </tr>\n",
              "    <tr>\n",
              "      <th>Volume</th>\n",
              "      <td>0</td>\n",
              "    </tr>\n",
              "    <tr>\n",
              "      <th>Currency</th>\n",
              "      <td>0</td>\n",
              "    </tr>\n",
              "  </tbody>\n",
              "</table>\n",
              "</div><br><label><b>dtype:</b> int64</label>"
            ]
          },
          "metadata": {},
          "execution_count": 6
        }
      ]
    },
    {
      "cell_type": "code",
      "source": [
        "ethereum_df = pd.read_csv(\"/content/ethereum.csv\")\n",
        "bitcoin_df = pd.read_csv(\"/content/Bitcoin dataset.csv\")\n",
        "\n",
        "# Sort by date if necessary\n",
        "bitcoin_df = bitcoin_df.sort_values(by=\"Date\")\n",
        "ethereum_df = ethereum_df.sort_values(by=\"Date\")\n",
        "\n",
        "# Define target variable as next day's closing price\n",
        "bitcoin_df[\"Target\"] = bitcoin_df[\"Close\"].shift(-1)\n",
        "ethereum_df[\"Target\"] = ethereum_df[\"Close\"].shift(-1)\n",
        "\n",
        "# Outcome: The Target column contains the next day's closing price, making this a supervised learning problem."
      ],
      "metadata": {
        "id": "oujbby1yP1mS"
      },
      "execution_count": null,
      "outputs": []
    },
    {
      "cell_type": "code",
      "source": [
        "# Select relevant features\n",
        "selected_features = [\"Open\", \"High\", \"Low\", \"Close\", \"Volume\"]\n"
      ],
      "metadata": {
        "id": "dnRZAKJAfpb8"
      },
      "execution_count": null,
      "outputs": []
    },
    {
      "cell_type": "code",
      "source": [
        "# Feature Engineering\n",
        "# 1. Price Change\n",
        "ethereum_df[\"Price Change\"] = ethereum_df[\"Close\"] - ethereum_df[\"Open\"]\n",
        "bitcoin_df[\"Price Change\"] = bitcoin_df[\"Close\"] - bitcoin_df[\"Open\"]\n",
        "\n",
        "# 2. Price Spread\n",
        "ethereum_df[\"Price Spread\"] = ethereum_df[\"High\"] - ethereum_df[\"Low\"]\n",
        "bitcoin_df[\"Price Spread\"] = bitcoin_df[\"High\"] - bitcoin_df[\"Low\"]\n",
        "\n",
        "# 3. Moving Average (5-day)\n",
        "ethereum_df[\"Moving Avg\"] = ethereum_df[\"Close\"].rolling(window=5).mean()\n",
        "bitcoin_df[\"Moving Avg\"] = bitcoin_df[\"Close\"].rolling(window=5).mean()\n",
        "\n",
        "# 4. Volatility (Rolling Standard Deviation over 5 days)\n",
        "ethereum_df[\"Volatility\"] = ethereum_df[\"Close\"].rolling(window=5).std()\n",
        "bitcoin_df[\"Volatility\"] = bitcoin_df[\"Close\"].rolling(window=5).std()\n"
      ],
      "metadata": {
        "id": "14N0-6EXZPWz"
      },
      "execution_count": null,
      "outputs": []
    },
    {
      "cell_type": "code",
      "source": [
        "ethereum_df.drop(columns=[\"Date\"], inplace=True)\n",
        "bitcoin_df.drop(columns=[\"Date\"], inplace=True)\n"
      ],
      "metadata": {
        "id": "OiyZeK36mNOv"
      },
      "execution_count": null,
      "outputs": []
    },
    {
      "cell_type": "code",
      "source": [
        "import pandas as pd\n",
        "\n",
        "# Reload the datasets to restore the Date column\n",
        "ethereum_df = pd.read_csv(\"/content/ethereum.csv\")\n",
        "bitcoin_df = pd.read_csv(\"/content/Bitcoin dataset.csv\")\n",
        "\n",
        "# Sort by date to ensure chronological order\n",
        "ethereum_df = ethereum_df.sort_values(by=\"Date\")\n",
        "bitcoin_df = bitcoin_df.sort_values(by=\"Date\")\n",
        "\n",
        "# Define the target variable (Next day's closing price)\n",
        "ethereum_df[\"Target\"] = ethereum_df[\"Close\"].shift(-1)\n",
        "bitcoin_df[\"Target\"] = bitcoin_df[\"Close\"].shift(-1)\n",
        "\n",
        "# Feature Engineering\n",
        "ethereum_df[\"Price Change\"] = ethereum_df[\"Close\"] - ethereum_df[\"Open\"]\n",
        "ethereum_df[\"Price Spread\"] = ethereum_df[\"High\"] - ethereum_df[\"Low\"]\n",
        "ethereum_df[\"Moving Avg\"] = ethereum_df[\"Close\"].rolling(window=5).mean()\n",
        "ethereum_df[\"Volatility\"] = ethereum_df[\"Close\"].rolling(window=5).std()\n",
        "\n",
        "bitcoin_df[\"Price Change\"] = bitcoin_df[\"Close\"] - bitcoin_df[\"Open\"]\n",
        "bitcoin_df[\"Price Spread\"] = bitcoin_df[\"High\"] - bitcoin_df[\"Low\"]\n",
        "bitcoin_df[\"Moving Avg\"] = bitcoin_df[\"Close\"].rolling(window=5).mean()\n",
        "bitcoin_df[\"Volatility\"] = bitcoin_df[\"Close\"].rolling(window=5).std()\n",
        "\n",
        "# Create a new DataFrame for model training\n",
        "eth_features = ethereum_df.copy()\n",
        "btc_features = bitcoin_df.copy()\n",
        "\n",
        "# Drop Date from the features DataFrame\n",
        "eth_features.drop(columns=[\"Date\"], inplace=True)\n",
        "btc_features.drop(columns=[\"Date\"], inplace=True)\n"
      ],
      "metadata": {
        "id": "62m0eVAVmw2M"
      },
      "execution_count": null,
      "outputs": []
    },
    {
      "cell_type": "code",
      "source": [
        "from sklearn.preprocessing import StandardScaler\n",
        "\n",
        "# Selecting numerical features for scaling\n",
        "features = [\"Open\", \"High\", \"Low\", \"Close\", \"Volume\", \"Price Change\", \"Price Spread\", \"Moving Avg\", \"Volatility\"]\n",
        "\n",
        "# Initialize the StandardScaler\n",
        "scaler = StandardScaler()\n",
        "\n",
        "# Apply scaling on Bitcoin dataset\n",
        "btc_features[features] = scaler.fit_transform(btc_features[features])\n",
        "\n",
        "# Check the first few rows after scaling\n",
        "print(btc_features.head())\n",
        "\n"
      ],
      "metadata": {
        "colab": {
          "base_uri": "https://localhost:8080/"
        },
        "id": "SQMbynNQq5Aa",
        "outputId": "4dce4bab-aecf-4b68-cace-274081f28eaf"
      },
      "execution_count": null,
      "outputs": [
        {
          "output_type": "stream",
          "name": "stdout",
          "text": [
            "         Open      High       Low     Close    Volume Currency        Target  \\\n",
            "197 -1.071870 -1.097768 -1.044788 -1.071527 -0.552489      USD  28294.328130   \n",
            "563  0.151363  0.117841  0.150718  0.100176 -0.552624      USD  47532.605470   \n",
            "917  1.105643  1.098365  1.197037  1.172286  0.447644      USD   9339.939453   \n",
            "228 -0.951788 -0.977823 -0.925819 -0.956113 -0.552502      USD  33500.871090   \n",
            "594  0.347452  0.373865  0.380081  0.390326 -0.441377      USD  38705.343750   \n",
            "\n",
            "     Price Change  Price Spread  Moving Avg  Volatility  \n",
            "197      0.013199     -0.526526         NaN         NaN  \n",
            "563     -0.677553     -0.123936         NaN         NaN  \n",
            "917      0.871622     -0.182960         NaN         NaN  \n",
            "228     -0.049453     -0.491517         NaN         NaN  \n",
            "594      0.563699      0.065800   -0.211027   -0.253705  \n"
          ]
        }
      ]
    },
    {
      "cell_type": "code",
      "source": [
        "print(eth_features.head())"
      ],
      "metadata": {
        "colab": {
          "base_uri": "https://localhost:8080/"
        },
        "id": "6oZI0jdRq4pe",
        "outputId": "d4915790-4e76-48c5-ba48-0953f2e9f2b2"
      },
      "execution_count": null,
      "outputs": [
        {
          "output_type": "stream",
          "name": "stdout",
          "text": [
            "        Open    High     Low   Close    Volume Currency   Target  \\\n",
            "297     8.17    8.59    8.03    8.20    144921      USD   752.46   \n",
            "662   736.77  762.00  717.94  752.46    425460      USD   139.61   \n",
            "1027  131.90  140.51  130.67  139.61   3053350      USD   130.75   \n",
            "1392  129.21  132.97  128.81  130.75  10353998      USD   729.12   \n",
            "1758  735.87  748.96  715.74  729.12   1641656      USD  3765.67   \n",
            "\n",
            "      Price Change  Price Spread  Moving Avg  Volatility  \n",
            "297           0.03          0.56         NaN         NaN  \n",
            "662          15.69         44.06         NaN         NaN  \n",
            "1027          7.71          9.84         NaN         NaN  \n",
            "1392          1.54          4.16         NaN         NaN  \n",
            "1758         -6.75         33.22     352.028  358.764274  \n"
          ]
        }
      ]
    },
    {
      "cell_type": "code",
      "source": [
        "bitcoin_df.reset_index(drop=True, inplace=True)\n",
        "ethereum_df.reset_index(drop=True, inplace=True)\n",
        "\n"
      ],
      "metadata": {
        "id": "j8yXmib5tggy"
      },
      "execution_count": null,
      "outputs": []
    },
    {
      "cell_type": "code",
      "source": [
        "print(bitcoin_df[[\"Date\", \"Close\"]].head(10))\n"
      ],
      "metadata": {
        "colab": {
          "base_uri": "https://localhost:8080/"
        },
        "id": "QQiwFBuXU_qr",
        "outputId": "645e1b92-5a2c-4fb2-dd52-faa56ac35418"
      },
      "execution_count": null,
      "outputs": [
        {
          "output_type": "stream",
          "name": "stdout",
          "text": [
            "         Date         Close\n",
            "0  01/01/2020   7268.917480\n",
            "1  01/01/2021  28294.328130\n",
            "2  01/01/2022  47532.605470\n",
            "3  01/02/2020   9339.939453\n",
            "4  01/02/2021  33500.871090\n",
            "5  01/02/2022  38705.343750\n",
            "6  01/03/2020   8519.292969\n",
            "7  01/03/2021  49408.437500\n",
            "8  01/03/2022  44276.667970\n",
            "9  01/04/2020   6619.716797\n"
          ]
        }
      ]
    },
    {
      "cell_type": "code",
      "source": [
        "\n",
        "data = bitcoin_df.sort_values(by='Date')\n",
        "# Display the first 5 columns\n",
        "data.head()"
      ],
      "metadata": {
        "colab": {
          "base_uri": "https://localhost:8080/",
          "height": 243
        },
        "id": "1mRAGoDgU_iS",
        "outputId": "22ad9e1e-6676-4ad6-b1f3-b4bdc2b08e2f"
      },
      "execution_count": null,
      "outputs": [
        {
          "output_type": "execute_result",
          "data": {
            "text/plain": [
              "         Date          Open          High           Low         Close  \\\n",
              "0  01/01/2020   7242.912598   7302.126465   7156.847656   7268.917480   \n",
              "1  01/01/2021  29206.414060  29699.632810  28050.712890  28294.328130   \n",
              "2  01/01/2022  46340.800780  47765.695310  46337.226560  47532.605470   \n",
              "3  01/02/2020   9399.020508   9512.105469   9236.068359   9339.939453   \n",
              "4  01/02/2021  32727.248050  34416.855470  32059.289060  33500.871090   \n",
              "\n",
              "     Volume Currency        Target  Price Change  Price Spread    Moving Avg  \\\n",
              "0      6994      USD  28294.328130     26.004882    145.278809           NaN   \n",
              "1         8      USD  47532.605470   -912.085930   1648.919920           NaN   \n",
              "2  52021296      USD   9339.939453   1191.804690   1428.468750           NaN   \n",
              "3      6327      USD  33500.871090    -59.081055    276.037110           NaN   \n",
              "4   5785644      USD  38705.343750    773.623040   2357.566410  25187.332325   \n",
              "\n",
              "     Volatility  \n",
              "0           NaN  \n",
              "1           NaN  \n",
              "2           NaN  \n",
              "3           NaN  \n",
              "4  16957.955604  "
            ],
            "text/html": [
              "\n",
              "  <div id=\"df-2e4a19a6-e4fb-4440-941a-e3a7ade97d5f\" class=\"colab-df-container\">\n",
              "    <div>\n",
              "<style scoped>\n",
              "    .dataframe tbody tr th:only-of-type {\n",
              "        vertical-align: middle;\n",
              "    }\n",
              "\n",
              "    .dataframe tbody tr th {\n",
              "        vertical-align: top;\n",
              "    }\n",
              "\n",
              "    .dataframe thead th {\n",
              "        text-align: right;\n",
              "    }\n",
              "</style>\n",
              "<table border=\"1\" class=\"dataframe\">\n",
              "  <thead>\n",
              "    <tr style=\"text-align: right;\">\n",
              "      <th></th>\n",
              "      <th>Date</th>\n",
              "      <th>Open</th>\n",
              "      <th>High</th>\n",
              "      <th>Low</th>\n",
              "      <th>Close</th>\n",
              "      <th>Volume</th>\n",
              "      <th>Currency</th>\n",
              "      <th>Target</th>\n",
              "      <th>Price Change</th>\n",
              "      <th>Price Spread</th>\n",
              "      <th>Moving Avg</th>\n",
              "      <th>Volatility</th>\n",
              "    </tr>\n",
              "  </thead>\n",
              "  <tbody>\n",
              "    <tr>\n",
              "      <th>0</th>\n",
              "      <td>01/01/2020</td>\n",
              "      <td>7242.912598</td>\n",
              "      <td>7302.126465</td>\n",
              "      <td>7156.847656</td>\n",
              "      <td>7268.917480</td>\n",
              "      <td>6994</td>\n",
              "      <td>USD</td>\n",
              "      <td>28294.328130</td>\n",
              "      <td>26.004882</td>\n",
              "      <td>145.278809</td>\n",
              "      <td>NaN</td>\n",
              "      <td>NaN</td>\n",
              "    </tr>\n",
              "    <tr>\n",
              "      <th>1</th>\n",
              "      <td>01/01/2021</td>\n",
              "      <td>29206.414060</td>\n",
              "      <td>29699.632810</td>\n",
              "      <td>28050.712890</td>\n",
              "      <td>28294.328130</td>\n",
              "      <td>8</td>\n",
              "      <td>USD</td>\n",
              "      <td>47532.605470</td>\n",
              "      <td>-912.085930</td>\n",
              "      <td>1648.919920</td>\n",
              "      <td>NaN</td>\n",
              "      <td>NaN</td>\n",
              "    </tr>\n",
              "    <tr>\n",
              "      <th>2</th>\n",
              "      <td>01/01/2022</td>\n",
              "      <td>46340.800780</td>\n",
              "      <td>47765.695310</td>\n",
              "      <td>46337.226560</td>\n",
              "      <td>47532.605470</td>\n",
              "      <td>52021296</td>\n",
              "      <td>USD</td>\n",
              "      <td>9339.939453</td>\n",
              "      <td>1191.804690</td>\n",
              "      <td>1428.468750</td>\n",
              "      <td>NaN</td>\n",
              "      <td>NaN</td>\n",
              "    </tr>\n",
              "    <tr>\n",
              "      <th>3</th>\n",
              "      <td>01/02/2020</td>\n",
              "      <td>9399.020508</td>\n",
              "      <td>9512.105469</td>\n",
              "      <td>9236.068359</td>\n",
              "      <td>9339.939453</td>\n",
              "      <td>6327</td>\n",
              "      <td>USD</td>\n",
              "      <td>33500.871090</td>\n",
              "      <td>-59.081055</td>\n",
              "      <td>276.037110</td>\n",
              "      <td>NaN</td>\n",
              "      <td>NaN</td>\n",
              "    </tr>\n",
              "    <tr>\n",
              "      <th>4</th>\n",
              "      <td>01/02/2021</td>\n",
              "      <td>32727.248050</td>\n",
              "      <td>34416.855470</td>\n",
              "      <td>32059.289060</td>\n",
              "      <td>33500.871090</td>\n",
              "      <td>5785644</td>\n",
              "      <td>USD</td>\n",
              "      <td>38705.343750</td>\n",
              "      <td>773.623040</td>\n",
              "      <td>2357.566410</td>\n",
              "      <td>25187.332325</td>\n",
              "      <td>16957.955604</td>\n",
              "    </tr>\n",
              "  </tbody>\n",
              "</table>\n",
              "</div>\n",
              "    <div class=\"colab-df-buttons\">\n",
              "\n",
              "  <div class=\"colab-df-container\">\n",
              "    <button class=\"colab-df-convert\" onclick=\"convertToInteractive('df-2e4a19a6-e4fb-4440-941a-e3a7ade97d5f')\"\n",
              "            title=\"Convert this dataframe to an interactive table.\"\n",
              "            style=\"display:none;\">\n",
              "\n",
              "  <svg xmlns=\"http://www.w3.org/2000/svg\" height=\"24px\" viewBox=\"0 -960 960 960\">\n",
              "    <path d=\"M120-120v-720h720v720H120Zm60-500h600v-160H180v160Zm220 220h160v-160H400v160Zm0 220h160v-160H400v160ZM180-400h160v-160H180v160Zm440 0h160v-160H620v160ZM180-180h160v-160H180v160Zm440 0h160v-160H620v160Z\"/>\n",
              "  </svg>\n",
              "    </button>\n",
              "\n",
              "  <style>\n",
              "    .colab-df-container {\n",
              "      display:flex;\n",
              "      gap: 12px;\n",
              "    }\n",
              "\n",
              "    .colab-df-convert {\n",
              "      background-color: #E8F0FE;\n",
              "      border: none;\n",
              "      border-radius: 50%;\n",
              "      cursor: pointer;\n",
              "      display: none;\n",
              "      fill: #1967D2;\n",
              "      height: 32px;\n",
              "      padding: 0 0 0 0;\n",
              "      width: 32px;\n",
              "    }\n",
              "\n",
              "    .colab-df-convert:hover {\n",
              "      background-color: #E2EBFA;\n",
              "      box-shadow: 0px 1px 2px rgba(60, 64, 67, 0.3), 0px 1px 3px 1px rgba(60, 64, 67, 0.15);\n",
              "      fill: #174EA6;\n",
              "    }\n",
              "\n",
              "    .colab-df-buttons div {\n",
              "      margin-bottom: 4px;\n",
              "    }\n",
              "\n",
              "    [theme=dark] .colab-df-convert {\n",
              "      background-color: #3B4455;\n",
              "      fill: #D2E3FC;\n",
              "    }\n",
              "\n",
              "    [theme=dark] .colab-df-convert:hover {\n",
              "      background-color: #434B5C;\n",
              "      box-shadow: 0px 1px 3px 1px rgba(0, 0, 0, 0.15);\n",
              "      filter: drop-shadow(0px 1px 2px rgba(0, 0, 0, 0.3));\n",
              "      fill: #FFFFFF;\n",
              "    }\n",
              "  </style>\n",
              "\n",
              "    <script>\n",
              "      const buttonEl =\n",
              "        document.querySelector('#df-2e4a19a6-e4fb-4440-941a-e3a7ade97d5f button.colab-df-convert');\n",
              "      buttonEl.style.display =\n",
              "        google.colab.kernel.accessAllowed ? 'block' : 'none';\n",
              "\n",
              "      async function convertToInteractive(key) {\n",
              "        const element = document.querySelector('#df-2e4a19a6-e4fb-4440-941a-e3a7ade97d5f');\n",
              "        const dataTable =\n",
              "          await google.colab.kernel.invokeFunction('convertToInteractive',\n",
              "                                                    [key], {});\n",
              "        if (!dataTable) return;\n",
              "\n",
              "        const docLinkHtml = 'Like what you see? Visit the ' +\n",
              "          '<a target=\"_blank\" href=https://colab.research.google.com/notebooks/data_table.ipynb>data table notebook</a>'\n",
              "          + ' to learn more about interactive tables.';\n",
              "        element.innerHTML = '';\n",
              "        dataTable['output_type'] = 'display_data';\n",
              "        await google.colab.output.renderOutput(dataTable, element);\n",
              "        const docLink = document.createElement('div');\n",
              "        docLink.innerHTML = docLinkHtml;\n",
              "        element.appendChild(docLink);\n",
              "      }\n",
              "    </script>\n",
              "  </div>\n",
              "\n",
              "\n",
              "<div id=\"df-d27db076-c181-4c25-9c6e-a9cc0e510979\">\n",
              "  <button class=\"colab-df-quickchart\" onclick=\"quickchart('df-d27db076-c181-4c25-9c6e-a9cc0e510979')\"\n",
              "            title=\"Suggest charts\"\n",
              "            style=\"display:none;\">\n",
              "\n",
              "<svg xmlns=\"http://www.w3.org/2000/svg\" height=\"24px\"viewBox=\"0 0 24 24\"\n",
              "     width=\"24px\">\n",
              "    <g>\n",
              "        <path d=\"M19 3H5c-1.1 0-2 .9-2 2v14c0 1.1.9 2 2 2h14c1.1 0 2-.9 2-2V5c0-1.1-.9-2-2-2zM9 17H7v-7h2v7zm4 0h-2V7h2v10zm4 0h-2v-4h2v4z\"/>\n",
              "    </g>\n",
              "</svg>\n",
              "  </button>\n",
              "\n",
              "<style>\n",
              "  .colab-df-quickchart {\n",
              "      --bg-color: #E8F0FE;\n",
              "      --fill-color: #1967D2;\n",
              "      --hover-bg-color: #E2EBFA;\n",
              "      --hover-fill-color: #174EA6;\n",
              "      --disabled-fill-color: #AAA;\n",
              "      --disabled-bg-color: #DDD;\n",
              "  }\n",
              "\n",
              "  [theme=dark] .colab-df-quickchart {\n",
              "      --bg-color: #3B4455;\n",
              "      --fill-color: #D2E3FC;\n",
              "      --hover-bg-color: #434B5C;\n",
              "      --hover-fill-color: #FFFFFF;\n",
              "      --disabled-bg-color: #3B4455;\n",
              "      --disabled-fill-color: #666;\n",
              "  }\n",
              "\n",
              "  .colab-df-quickchart {\n",
              "    background-color: var(--bg-color);\n",
              "    border: none;\n",
              "    border-radius: 50%;\n",
              "    cursor: pointer;\n",
              "    display: none;\n",
              "    fill: var(--fill-color);\n",
              "    height: 32px;\n",
              "    padding: 0;\n",
              "    width: 32px;\n",
              "  }\n",
              "\n",
              "  .colab-df-quickchart:hover {\n",
              "    background-color: var(--hover-bg-color);\n",
              "    box-shadow: 0 1px 2px rgba(60, 64, 67, 0.3), 0 1px 3px 1px rgba(60, 64, 67, 0.15);\n",
              "    fill: var(--button-hover-fill-color);\n",
              "  }\n",
              "\n",
              "  .colab-df-quickchart-complete:disabled,\n",
              "  .colab-df-quickchart-complete:disabled:hover {\n",
              "    background-color: var(--disabled-bg-color);\n",
              "    fill: var(--disabled-fill-color);\n",
              "    box-shadow: none;\n",
              "  }\n",
              "\n",
              "  .colab-df-spinner {\n",
              "    border: 2px solid var(--fill-color);\n",
              "    border-color: transparent;\n",
              "    border-bottom-color: var(--fill-color);\n",
              "    animation:\n",
              "      spin 1s steps(1) infinite;\n",
              "  }\n",
              "\n",
              "  @keyframes spin {\n",
              "    0% {\n",
              "      border-color: transparent;\n",
              "      border-bottom-color: var(--fill-color);\n",
              "      border-left-color: var(--fill-color);\n",
              "    }\n",
              "    20% {\n",
              "      border-color: transparent;\n",
              "      border-left-color: var(--fill-color);\n",
              "      border-top-color: var(--fill-color);\n",
              "    }\n",
              "    30% {\n",
              "      border-color: transparent;\n",
              "      border-left-color: var(--fill-color);\n",
              "      border-top-color: var(--fill-color);\n",
              "      border-right-color: var(--fill-color);\n",
              "    }\n",
              "    40% {\n",
              "      border-color: transparent;\n",
              "      border-right-color: var(--fill-color);\n",
              "      border-top-color: var(--fill-color);\n",
              "    }\n",
              "    60% {\n",
              "      border-color: transparent;\n",
              "      border-right-color: var(--fill-color);\n",
              "    }\n",
              "    80% {\n",
              "      border-color: transparent;\n",
              "      border-right-color: var(--fill-color);\n",
              "      border-bottom-color: var(--fill-color);\n",
              "    }\n",
              "    90% {\n",
              "      border-color: transparent;\n",
              "      border-bottom-color: var(--fill-color);\n",
              "    }\n",
              "  }\n",
              "</style>\n",
              "\n",
              "  <script>\n",
              "    async function quickchart(key) {\n",
              "      const quickchartButtonEl =\n",
              "        document.querySelector('#' + key + ' button');\n",
              "      quickchartButtonEl.disabled = true;  // To prevent multiple clicks.\n",
              "      quickchartButtonEl.classList.add('colab-df-spinner');\n",
              "      try {\n",
              "        const charts = await google.colab.kernel.invokeFunction(\n",
              "            'suggestCharts', [key], {});\n",
              "      } catch (error) {\n",
              "        console.error('Error during call to suggestCharts:', error);\n",
              "      }\n",
              "      quickchartButtonEl.classList.remove('colab-df-spinner');\n",
              "      quickchartButtonEl.classList.add('colab-df-quickchart-complete');\n",
              "    }\n",
              "    (() => {\n",
              "      let quickchartButtonEl =\n",
              "        document.querySelector('#df-d27db076-c181-4c25-9c6e-a9cc0e510979 button');\n",
              "      quickchartButtonEl.style.display =\n",
              "        google.colab.kernel.accessAllowed ? 'block' : 'none';\n",
              "    })();\n",
              "  </script>\n",
              "</div>\n",
              "\n",
              "    </div>\n",
              "  </div>\n"
            ],
            "application/vnd.google.colaboratory.intrinsic+json": {
              "type": "dataframe",
              "variable_name": "data",
              "summary": "{\n  \"name\": \"data\",\n  \"rows\": 1151,\n  \"fields\": [\n    {\n      \"column\": \"Date\",\n      \"properties\": {\n        \"dtype\": \"string\",\n        \"num_unique_values\": 1151,\n        \"samples\": [\n          \"05/08/2019\",\n          \"20/09/2020\",\n          \"13/04/2022\"\n        ],\n        \"semantic_type\": \"\",\n        \"description\": \"\"\n      }\n    },\n    {\n      \"column\": \"Open\",\n      \"properties\": {\n        \"dtype\": \"number\",\n        \"std\": 17963.10163526419,\n        \"min\": 4943.83252,\n        \"max\": 67470.4375,\n        \"num_unique_values\": 1151,\n        \"samples\": [\n          10976.35449,\n          11099.91797,\n          40061.69531\n        ],\n        \"semantic_type\": \"\",\n        \"description\": \"\"\n      }\n    },\n    {\n      \"column\": \"High\",\n      \"properties\": {\n        \"dtype\": \"number\",\n        \"std\": 18432.925246760376,\n        \"min\": 5338.512695,\n        \"max\": 85563.98438,\n        \"num_unique_values\": 1150,\n        \"samples\": [\n          14664.88086,\n          47350.86719,\n          41341.70313\n        ],\n        \"semantic_type\": \"\",\n        \"description\": \"\"\n      }\n    },\n    {\n      \"column\": \"Low\",\n      \"properties\": {\n        \"dtype\": \"number\",\n        \"std\": 17484.60454496263,\n        \"min\": 0.076853,\n        \"max\": 66072.34375,\n        \"num_unique_values\": 1151,\n        \"samples\": [\n          10792.6875,\n          10891.99121,\n          39697.43359\n        ],\n        \"semantic_type\": \"\",\n        \"description\": \"\"\n      }\n    },\n    {\n      \"column\": \"Close\",\n      \"properties\": {\n        \"dtype\": \"number\",\n        \"std\": 17952.113609311175,\n        \"min\": 4936.755371,\n        \"max\": 67502.42188,\n        \"num_unique_values\": 1151,\n        \"samples\": [\n          11939.71484,\n          11592.11621,\n          41211.11328\n        ],\n        \"semantic_type\": \"\",\n        \"description\": \"\"\n      }\n    },\n    {\n      \"column\": \"Volume\",\n      \"properties\": {\n        \"dtype\": \"number\",\n        \"std\": 52029986,\n        \"min\": 0,\n        \"max\": 579170589,\n        \"num_unique_values\": 1144,\n        \"samples\": [\n          33966862,\n          579170589,\n          21198833\n        ],\n        \"semantic_type\": \"\",\n        \"description\": \"\"\n      }\n    },\n    {\n      \"column\": \"Currency\",\n      \"properties\": {\n        \"dtype\": \"category\",\n        \"num_unique_values\": 1,\n        \"samples\": [\n          \"USD\"\n        ],\n        \"semantic_type\": \"\",\n        \"description\": \"\"\n      }\n    },\n    {\n      \"column\": \"Target\",\n      \"properties\": {\n        \"dtype\": \"number\",\n        \"std\": 17950.95605889035,\n        \"min\": 4936.755371,\n        \"max\": 67502.42188,\n        \"num_unique_values\": 1150,\n        \"samples\": [\n          11859.07227\n        ],\n        \"semantic_type\": \"\",\n        \"description\": \"\"\n      }\n    },\n    {\n      \"column\": \"Price Change\",\n      \"properties\": {\n        \"dtype\": \"number\",\n        \"std\": 1358.6617967140394,\n        \"min\": -6669.761719999995,\n        \"max\": 7190.25,\n        \"num_unique_values\": 1151,\n        \"samples\": [\n          963.3603500000008\n        ],\n        \"semantic_type\": \"\",\n        \"description\": \"\"\n      }\n    },\n    {\n      \"column\": \"Price Spread\",\n      \"properties\": {\n        \"dtype\": \"number\",\n        \"std\": 3736.537733283704,\n        \"min\": 69.41699200000039,\n        \"max\": 83961.29273,\n        \"num_unique_values\": 1151,\n        \"samples\": [\n          3872.1933599999993\n        ],\n        \"semantic_type\": \"\",\n        \"description\": \"\"\n      }\n    },\n    {\n      \"column\": \"Moving Avg\",\n      \"properties\": {\n        \"dtype\": \"number\",\n        \"std\": 6237.534430975565,\n        \"min\": 16228.314453199997,\n        \"max\": 42152.568753,\n        \"num_unique_values\": 1147,\n        \"samples\": [\n          26877.704102\n        ],\n        \"semantic_type\": \"\",\n        \"description\": \"\"\n      }\n    },\n    {\n      \"column\": \"Volatility\",\n      \"properties\": {\n        \"dtype\": \"number\",\n        \"std\": 4829.776812570576,\n        \"min\": 8606.766381071784,\n        \"max\": 28832.832908563716,\n        \"num_unique_values\": 1147,\n        \"samples\": [\n          17382.073043411037\n        ],\n        \"semantic_type\": \"\",\n        \"description\": \"\"\n      }\n    }\n  ]\n}"
            }
          },
          "metadata": {},
          "execution_count": 16
        }
      ]
    },
    {
      "cell_type": "code",
      "source": [
        "print(bitcoin_df.dtypes)\n",
        "print(ethereum_df.dtypes)\n"
      ],
      "metadata": {
        "colab": {
          "base_uri": "https://localhost:8080/"
        },
        "id": "zS-VKezTYKSp",
        "outputId": "2f481070-1845-4245-ed3a-b660219451cc"
      },
      "execution_count": null,
      "outputs": [
        {
          "output_type": "stream",
          "name": "stdout",
          "text": [
            "Date             object\n",
            "Open            float64\n",
            "High            float64\n",
            "Low             float64\n",
            "Close           float64\n",
            "Volume            int64\n",
            "Currency         object\n",
            "Target          float64\n",
            "Price Change    float64\n",
            "Price Spread    float64\n",
            "Moving Avg      float64\n",
            "Volatility      float64\n",
            "dtype: object\n",
            "Date             object\n",
            "Open            float64\n",
            "High            float64\n",
            "Low             float64\n",
            "Close           float64\n",
            "Volume            int64\n",
            "Currency         object\n",
            "Target          float64\n",
            "Price Change    float64\n",
            "Price Spread    float64\n",
            "Moving Avg      float64\n",
            "Volatility      float64\n",
            "dtype: object\n"
          ]
        }
      ]
    },
    {
      "cell_type": "code",
      "source": [
        "import matplotlib.pyplot as plt\n",
        "import seaborn as sns\n",
        "\n",
        "bitcoin_df = pd.read_csv(\"/content/Bitcoin dataset.csv\")\n",
        "ethereum_df = pd.read_csv(\"/content/ethereum.csv\")\n",
        "\n",
        "bitcoin_df = pd.to_datetime(bitcoin_df['Date'])\n",
        "ethereum_df = pd.to_datetime(ethereum_df['Date'])\n",
        "\n",
        "print(bitcoin_df.head())\n",
        "print(ethereum_df.head())"
      ],
      "metadata": {
        "colab": {
          "base_uri": "https://localhost:8080/"
        },
        "id": "_wjmrYFQYXdg",
        "outputId": "5820c2e8-4843-4905-aeae-13fab4893927"
      },
      "execution_count": null,
      "outputs": [
        {
          "output_type": "stream",
          "name": "stdout",
          "text": [
            "0   2019-06-18\n",
            "1   2019-06-19\n",
            "2   2019-06-20\n",
            "3   2019-06-21\n",
            "4   2019-06-22\n",
            "Name: Date, dtype: datetime64[ns]\n",
            "0   2016-03-10\n",
            "1   2016-03-11\n",
            "2   2016-03-12\n",
            "3   2016-03-13\n",
            "4   2016-03-14\n",
            "Name: Date, dtype: datetime64[ns]\n"
          ]
        },
        {
          "output_type": "stream",
          "name": "stderr",
          "text": [
            "<ipython-input-18-8dc5fc5b729d>:7: UserWarning: Parsing dates in %d/%m/%Y format when dayfirst=False (the default) was specified. Pass `dayfirst=True` or specify a format to silence this warning.\n",
            "  bitcoin_df = pd.to_datetime(bitcoin_df['Date'])\n"
          ]
        }
      ]
    },
    {
      "cell_type": "code",
      "source": [
        "# Select relevant features\n",
        "selected_features = [\"Open\", \"High\", \"Low\", \"Close\", \"Volume\"]\n"
      ],
      "metadata": {
        "id": "hnueoT5Gc-E6"
      },
      "execution_count": null,
      "outputs": []
    },
    {
      "cell_type": "code",
      "source": [
        "import matplotlib.pyplot as plt\n",
        "import seaborn as sns\n",
        "import pandas as pd\n",
        "\n",
        "\n",
        "# Loading Bitcoin dataset\n",
        "bitcoin_df = pd.read_csv(\"/content/Bitcoin dataset.csv\")\n",
        "ethereum_df = pd.read_csv(\"/content/ethereum.csv\")\n",
        "\n",
        "# Convert 'Date' column to datetime but keep the original DataFrame intact\n",
        "bitcoin_df['Date'] = pd.to_datetime(bitcoin_df['Date'])\n",
        "ethereum_df['Date'] = pd.to_datetime(ethereum_df['Date'])\n",
        "\n",
        "# Now you can access the 'Close' column\n",
        "print(bitcoin_df.head())\n",
        "print(ethereum_df.head())\n",
        "\n",
        "# Select relevant features\n",
        "selected_features = [\"Open\", \"High\", \"Low\", \"Close\", \"Volume\"]\n",
        "\n",
        "# Calculate \"Price Change\"\n",
        "bitcoin_df[\"Price Change\"] = bitcoin_df[\"Close\"] - bitcoin_df[\"Open\"]\n",
        "ethereum_df[\"Price Change\"] = ethereum_df[\"Close\"] - ethereum_df[\"Open\"]"
      ],
      "metadata": {
        "colab": {
          "base_uri": "https://localhost:8080/"
        },
        "id": "FZsIkyFHf1b6",
        "outputId": "0b6991f4-bc15-4be5-8b5a-d49f4553ef98"
      },
      "execution_count": null,
      "outputs": [
        {
          "output_type": "stream",
          "name": "stdout",
          "text": [
            "        Date          Open          High           Low         Close  Volume  \\\n",
            "0 2019-06-18   9128.269531   9149.763672   8988.606445   9062.045898  952850   \n",
            "1 2019-06-19   9068.174805   9277.677734   9051.094727   9271.459961  131077   \n",
            "2 2019-06-20   9271.567383   9573.689453   9209.416992   9519.200195   83052   \n",
            "3 2019-06-21   9526.833984  10130.935550   9526.833984  10127.998050   76227   \n",
            "4 2019-06-22  10151.890630  11171.013670  10083.189450  10719.981450   84485   \n",
            "\n",
            "  Currency  \n",
            "0      USD  \n",
            "1      USD  \n",
            "2      USD  \n",
            "3      USD  \n",
            "4      USD  \n",
            "        Date   Open   High    Low  Close  Volume Currency\n",
            "0 2016-03-10  11.20  11.85  11.07  11.75       4      USD\n",
            "1 2016-03-11  11.75  11.95  11.75  11.95     179      USD\n",
            "2 2016-03-12  11.95  13.45  11.95  12.92     833      USD\n",
            "3 2016-03-13  12.92  15.07  12.92  15.07    1295      USD\n",
            "4 2016-03-14  15.07  15.07  11.40  12.50   92183      USD\n"
          ]
        },
        {
          "output_type": "stream",
          "name": "stderr",
          "text": [
            "<ipython-input-23-8381a25598eb>:11: UserWarning: Parsing dates in %d/%m/%Y format when dayfirst=False (the default) was specified. Pass `dayfirst=True` or specify a format to silence this warning.\n",
            "  bitcoin_df['Date'] = pd.to_datetime(bitcoin_df['Date'])\n"
          ]
        }
      ]
    },
    {
      "cell_type": "code",
      "source": [
        "bitcoin_df[\"Price Spread\"] = bitcoin_df[\"High\"] - bitcoin_df[\"Low\"]\n",
        "ethereum_df[\"Price Spread\"] = ethereum_df[\"High\"] - ethereum_df[\"Low\"]\n"
      ],
      "metadata": {
        "id": "kpG61NCkf1Rb"
      },
      "execution_count": null,
      "outputs": []
    },
    {
      "cell_type": "markdown",
      "source": [],
      "metadata": {
        "id": "84mLalHwfptV"
      }
    },
    {
      "cell_type": "code",
      "source": [
        "bitcoin_df[\"Moving Avg\"] = bitcoin_df[\"Close\"].rolling(window=5).mean()\n",
        "ethereum_df[\"Moving Avg\"] = ethereum_df[\"Close\"].rolling(window=5).mean()\n"
      ],
      "metadata": {
        "id": "a-DAfUzagcwV"
      },
      "execution_count": null,
      "outputs": []
    },
    {
      "cell_type": "code",
      "source": [
        "bitcoin_df[\"Volatility\"] = bitcoin_df[\"Close\"].rolling(window=5).std()\n",
        "ethereum_df[\"Volatility\"] = ethereum_df[\"Close\"].rolling(window=5).std()\n"
      ],
      "metadata": {
        "id": "NsqVhuTkgcqj"
      },
      "execution_count": null,
      "outputs": []
    },
    {
      "cell_type": "code",
      "source": [
        "print(bitcoin_df.isnull().sum())\n",
        "print(ethereum_df.isnull().sum())\n"
      ],
      "metadata": {
        "colab": {
          "base_uri": "https://localhost:8080/"
        },
        "id": "fqT9aGp6gch8",
        "outputId": "d6c2392f-aa8b-492e-bf79-4abd4c216cd5"
      },
      "execution_count": null,
      "outputs": [
        {
          "output_type": "stream",
          "name": "stdout",
          "text": [
            "Date            0\n",
            "Open            0\n",
            "High            0\n",
            "Low             0\n",
            "Close           0\n",
            "Volume          0\n",
            "Currency        0\n",
            "Price Change    0\n",
            "Price Spread    0\n",
            "Moving Avg      4\n",
            "Volatility      4\n",
            "dtype: int64\n",
            "Date            0\n",
            "Open            0\n",
            "High            0\n",
            "Low             0\n",
            "Close           0\n",
            "Volume          0\n",
            "Currency        0\n",
            "Price Change    0\n",
            "Price Spread    0\n",
            "Moving Avg      4\n",
            "Volatility      4\n",
            "dtype: int64\n"
          ]
        }
      ]
    },
    {
      "cell_type": "code",
      "source": [
        "bitcoin_df.dropna(inplace=True)\n",
        "ethereum_df.dropna(inplace=True)\n"
      ],
      "metadata": {
        "id": "HAvmCxWYgiUu"
      },
      "execution_count": null,
      "outputs": []
    },
    {
      "cell_type": "code",
      "source": [
        "from sklearn.preprocessing import StandardScaler\n",
        "\n",
        "# Selecting numerical features for scaling\n",
        "features = [\"Open\", \"High\", \"Low\", \"Close\", \"Volume\", \"Price Change\", \"Price Spread\", \"Moving Avg\", \"Volatility\"]\n",
        "\n",
        "# Initialize the StandardScaler\n",
        "scaler = StandardScaler()\n",
        "\n",
        "# Apply scaling on Bitcoin dataset\n",
        "bitcoin_df[features] = scaler.fit_transform(bitcoin_df[features])\n",
        "\n",
        "\n",
        "# Print the first few rows after scaling\n",
        "print(bitcoin_df.head())\n",
        "print(ethereum_df.head())\n"
      ],
      "metadata": {
        "colab": {
          "base_uri": "https://localhost:8080/"
        },
        "id": "EIu4B7daglWL",
        "outputId": "251a7e60-689d-44fc-87fc-f765b7de6bdb"
      },
      "execution_count": null,
      "outputs": [
        {
          "output_type": "stream",
          "name": "stdout",
          "text": [
            "        Date      Open      High       Low     Close    Volume Currency  \\\n",
            "4 2019-06-22 -0.913087 -0.891127 -0.880377 -0.882359 -0.552232      USD   \n",
            "5 2019-06-23 -0.881556 -0.884465 -0.853037 -0.853021 -0.552854      USD   \n",
            "6 2019-06-24 -0.852131 -0.886778 -0.847430 -0.866170 -0.551815      USD   \n",
            "7 2019-06-25 -0.865873 -0.863673 -0.827947 -0.829594 -0.552014      USD   \n",
            "8 2019-06-26 -0.828718 -0.751744 -0.791821 -0.764922 -0.552557      USD   \n",
            "\n",
            "   Price Change  Price Spread  Moving Avg  Volatility  \n",
            "4      0.412295     -0.275451   -0.937081   -0.325831  \n",
            "5      0.383118     -0.370419   -0.912705   -0.158693  \n",
            "6     -0.178822     -0.408023   -0.893300   -0.299318  \n",
            "7      0.485178     -0.385257   -0.869334   -0.443593  \n",
            "8      0.847942     -0.002651   -0.839209   -0.157110  \n",
            "        Date   Open   High    Low  Close  Volume Currency  Price Change  \\\n",
            "4 2016-03-14  15.07  15.07  11.40  12.50   92183      USD         -2.57   \n",
            "5 2016-03-15  12.63  13.42  11.98  13.06   39725      USD          0.43   \n",
            "6 2016-03-16  13.06  13.89  12.62  12.88   19240      USD         -0.18   \n",
            "7 2016-03-17  12.58  12.61  10.44  10.74   89450      USD         -1.84   \n",
            "8 2016-03-18  11.09  11.20   8.34  10.74  157374      USD         -0.35   \n",
            "\n",
            "   Price Spread  Moving Avg  Volatility  \n",
            "4          3.67      12.838    1.329951  \n",
            "5          1.44      13.100    1.182941  \n",
            "6          1.27      13.286    1.018617  \n",
            "7          2.17      12.850    1.544992  \n",
            "8          2.86      11.984    1.153464  \n"
          ]
        }
      ]
    },
    {
      "cell_type": "code",
      "source": [
        "print(bitcoin_df.head())\n"
      ],
      "metadata": {
        "colab": {
          "base_uri": "https://localhost:8080/"
        },
        "id": "qdrmIlrwhAtr",
        "outputId": "d9c3fcf1-4db9-48f5-c18f-49f6c6d46b7c"
      },
      "execution_count": null,
      "outputs": [
        {
          "output_type": "stream",
          "name": "stdout",
          "text": [
            "        Date      Open      High       Low     Close    Volume Currency  \\\n",
            "4 2019-06-22 -0.913087 -0.891127 -0.880377 -0.882359 -0.552232      USD   \n",
            "5 2019-06-23 -0.881556 -0.884465 -0.853037 -0.853021 -0.552854      USD   \n",
            "6 2019-06-24 -0.852131 -0.886778 -0.847430 -0.866170 -0.551815      USD   \n",
            "7 2019-06-25 -0.865873 -0.863673 -0.827947 -0.829594 -0.552014      USD   \n",
            "8 2019-06-26 -0.828718 -0.751744 -0.791821 -0.764922 -0.552557      USD   \n",
            "\n",
            "   Price Change  Price Spread  Moving Avg  Volatility  \n",
            "4      0.412295     -0.275451   -0.937081   -0.325831  \n",
            "5      0.383118     -0.370419   -0.912705   -0.158693  \n",
            "6     -0.178822     -0.408023   -0.893300   -0.299318  \n",
            "7      0.485178     -0.385257   -0.869334   -0.443593  \n",
            "8      0.847942     -0.002651   -0.839209   -0.157110  \n"
          ]
        }
      ]
    },
    {
      "cell_type": "code",
      "source": [
        "print(ethereum_df.describe())"
      ],
      "metadata": {
        "colab": {
          "base_uri": "https://localhost:8080/"
        },
        "id": "tdNVNVhgjqU1",
        "outputId": "f5a81d43-1a0b-4988-92df-a688e6b9dd54"
      },
      "execution_count": null,
      "outputs": [
        {
          "output_type": "stream",
          "name": "stdout",
          "text": [
            "                      Date         Open         High          Low  \\\n",
            "count                 2354  2354.000000  2354.000000  2354.000000   \n",
            "mean   2019-06-03 12:00:00   849.028054   878.855489   814.877319   \n",
            "min    2016-03-14 00:00:00     6.680000     7.320000     5.860000   \n",
            "25%    2017-10-23 06:00:00   139.385000   145.192500   135.547500   \n",
            "50%    2019-06-03 12:00:00   281.010000   290.025000   267.495000   \n",
            "75%    2021-01-11 18:00:00  1127.707500  1176.932500  1046.420000   \n",
            "max    2022-08-23 00:00:00  4808.340000  4864.060000  4715.430000   \n",
            "std                    NaN  1150.758383  1187.017191  1108.316682   \n",
            "\n",
            "             Close        Volume  Price Change  Price Spread   Moving Avg  \\\n",
            "count  2354.000000  2.354000e+03   2354.000000   2354.000000  2354.000000   \n",
            "mean    849.689966  1.271624e+07      0.661912     63.978169   848.326277   \n",
            "min       6.700000  0.000000e+00   -940.530000      0.000000     7.206000   \n",
            "25%     139.620000  5.495698e+05     -5.912500      5.912500   139.379500   \n",
            "50%     281.205000  1.438045e+06      0.030000     18.965000   280.011000   \n",
            "75%    1128.372500  7.721932e+06      9.295000     89.177500  1131.136500   \n",
            "max    4808.380000  1.792561e+09    545.490000   1511.760000  4712.484000   \n",
            "std    1150.722922  1.014861e+08     70.228513    101.622826  1149.163221   \n",
            "\n",
            "        Volatility  \n",
            "count  2354.000000  \n",
            "mean     36.863758  \n",
            "min       0.000000  \n",
            "25%       3.270516  \n",
            "50%      11.116017  \n",
            "75%      49.429396  \n",
            "max     485.554988  \n",
            "std      56.892540  \n"
          ]
        }
      ]
    },
    {
      "cell_type": "code",
      "source": [
        "import seaborn as sns\n",
        "import matplotlib.pyplot as plt\n",
        "import pandas as pd\n",
        "\n",
        "# Loading Bitcoin dataset\n",
        "bitcoin_df = pd.read_csv(\"/content/Bitcoin dataset.csv\")\n",
        "\n",
        "\n",
        "# Convert 'Date' to datetime if needed\n",
        "bitcoin_df['Date'] = pd.to_datetime(bitcoin_df['Date'])\n",
        "\n",
        "# Selecting only numerical features for correlation\n",
        "numerical_features = bitcoin_df.select_dtypes(include=['number']).columns\n",
        "\n",
        "# Compute correlation matrix using only numerical features\n",
        "correlation_matrix = bitcoin_df[numerical_features].corr()\n",
        "\n",
        "# Plot heatmap\n",
        "plt.figure(figsize=(10, 6))\n",
        "sns.heatmap(correlation_matrix, annot=True, cmap=\"coolwarm\", fmt=\".2f\", linewidths=0.5)\n",
        "plt.title(\"Feature Correlation Heatmap\")\n",
        "plt.show()\n"
      ],
      "metadata": {
        "colab": {
          "base_uri": "https://localhost:8080/",
          "height": 602
        },
        "id": "kPUCkc3fkdyd",
        "outputId": "30996e8e-5808-424c-90c7-aff4839e7ec6"
      },
      "execution_count": null,
      "outputs": [
        {
          "output_type": "stream",
          "name": "stderr",
          "text": [
            "<ipython-input-32-ed5f79c996df>:10: UserWarning: Parsing dates in %d/%m/%Y format when dayfirst=False (the default) was specified. Pass `dayfirst=True` or specify a format to silence this warning.\n",
            "  bitcoin_df['Date'] = pd.to_datetime(bitcoin_df['Date'])\n"
          ]
        },
        {
          "output_type": "display_data",
          "data": {
            "text/plain": [
              "<Figure size 1000x600 with 2 Axes>"
            ],
            "image/png": "[encoded data removed]"
          },
          "metadata": {}
        }
      ]
    },
    {
      "cell_type": "code",
      "source": [
        "from sklearn.feature_selection import f_regression  # Import f_regression\n",
        "from sklearn.preprocessing import MinMaxScaler\n",
        "import numpy as np\n",
        "\n",
        "# Re-create the Target column if it's missing\n",
        "if \"Target\" not in bitcoin_df.columns:\n",
        "    bitcoin_df[\"Target\"] = bitcoin_df[\"Close\"].shift(-1)\n",
        "\n",
        "# Select only positive values (chi-square requires non-negative values)\n",
        "X = bitcoin_df.drop(columns=[\"Date\", \"Currency\", \"Target\"])\n",
        "y = bitcoin_df[\"Target\"]\n",
        "\n",
        "# Drop rows with NaN values in the target variable\n",
        "X = X[~y.isna()]  # Select rows where y is not NaN\n",
        "y = y[~y.isna()]  # Select corresponding values in y\n",
        "\n",
        "# Scale data to non-negative range\n",
        "scaler = MinMaxScaler()\n",
        "X_scaled = scaler.fit_transform(X)\n",
        "\n",
        "# Compute F-statistic and p-values using f_regression\n",
        "f_scores, p_values = f_regression(X_scaled, y) # Use f_regression instead of chi2\n",
        "\n",
        "# Display results\n",
        "chi_results = pd.DataFrame({\"Feature\": X.columns, \"F-statistic\": f_scores, \"P-Value\": p_values})\n",
        "chi_results = chi_results.sort_values(by=\"F-statistic\", ascending=False) # Sort by F-statistic\n",
        "print(chi_results)"
      ],
      "metadata": {
        "colab": {
          "base_uri": "https://localhost:8080/"
        },
        "id": "PHgvVW29Ltfq",
        "outputId": "794bd6be-0791-4ed3-e233-76ede41a71e8"
      },
      "execution_count": null,
      "outputs": [
        {
          "output_type": "stream",
          "name": "stdout",
          "text": [
            "  Feature    F-statistic        P-Value\n",
            "3   Close  200798.816450   0.000000e+00\n",
            "0    Open  111460.764779   0.000000e+00\n",
            "2     Low   61000.079470   0.000000e+00\n",
            "1    High   37696.852209   0.000000e+00\n",
            "4  Volume     629.210607  4.499629e-111\n"
          ]
        }
      ]
    },
    {
      "cell_type": "code",
      "source": [
        "from sklearn.feature_selection import RFE\n",
        "from sklearn.ensemble import RandomForestRegressor\n",
        "\n",
        "# Defining model\n",
        "model = RandomForestRegressor(n_estimators=100, random_state=42)\n",
        "\n",
        "# Initializing RFE to select top 5 features\n",
        "rfe = RFE(estimator=model, n_features_to_select=5)\n",
        "\n",
        "# Drop rows with NaN values in the target variable\n",
        "X = bitcoin_df.drop(columns=[\"Date\", \"Currency\", \"Target\"])\n",
        "y = bitcoin_df[\"Target\"]\n",
        "X = X[~y.isna()]\n",
        "y = y[~y.isna()]\n",
        "\n",
        "# Fit RFE\n",
        "rfe.fit(X, y)\n",
        "\n",
        "# Print selected features\n",
        "selected_features = X.columns[rfe.support_]\n",
        "print(\"Selected Features:\", selected_features)"
      ],
      "metadata": {
        "colab": {
          "base_uri": "https://localhost:8080/"
        },
        "id": "hPdFS7eIMUEH",
        "outputId": "03c6f44c-b823-48a6-839c-23c7b76cef44"
      },
      "execution_count": null,
      "outputs": [
        {
          "output_type": "stream",
          "name": "stdout",
          "text": [
            "Selected Features: Index(['Open', 'High', 'Low', 'Close', 'Volume'], dtype='object')\n"
          ]
        }
      ]
    },
    {
      "cell_type": "code",
      "source": [
        "from sklearn.linear_model import Lasso\n",
        "import numpy as np\n",
        "\n",
        "# Define LASSO model\n",
        "lasso = Lasso(alpha=0.01)  # Alpha controls regularization strength\n",
        "\n",
        "# Fit model\n",
        "lasso.fit(X, y)\n",
        "\n",
        "# Get feature importance (coefficients)\n",
        "lasso_coeffs = pd.DataFrame({\"Feature\": X.columns, \"Coefficient\": np.abs(lasso.coef_)})\n",
        "lasso_coeffs = lasso_coeffs.sort_values(by=\"Coefficient\", ascending=False)\n",
        "\n",
        "# Print selected features\n",
        "print(\"LASSO Selected Features:\")\n",
        "print(lasso_coeffs)\n"
      ],
      "metadata": {
        "colab": {
          "base_uri": "https://localhost:8080/"
        },
        "id": "_-iRLoLiNkEg",
        "outputId": "d1b323d1-1736-4e1a-c27c-e3e08eb0c9c7"
      },
      "execution_count": null,
      "outputs": [
        {
          "output_type": "stream",
          "name": "stdout",
          "text": [
            "LASSO Selected Features:\n",
            "  Feature   Coefficient\n",
            "3   Close  9.095753e-01\n",
            "0    Open  1.167157e-01\n",
            "2     Low  2.337393e-02\n",
            "1    High  5.727886e-03\n",
            "4  Volume  4.747697e-07\n"
          ]
        },
        {
          "output_type": "stream",
          "name": "stderr",
          "text": [
            "/usr/local/lib/python3.11/dist-packages/sklearn/linear_model/_coordinate_descent.py:695: ConvergenceWarning: Objective did not converge. You might want to increase the number of iterations, check the scale of the features or consider increasing regularisation. Duality gap: 1.040e+09, tolerance: 3.703e+07\n",
            "  model = cd_fast.enet_coordinate_descent(\n"
          ]
        }
      ]
    },
    {
      "cell_type": "code",
      "source": [
        "from sklearn.model_selection import train_test_split\n",
        "from sklearn.linear_model import LinearRegression\n",
        "from sklearn.ensemble import RandomForestRegressor\n",
        "from sklearn.neighbors import KNeighborsRegressor\n",
        "from sklearn.metrics import mean_squared_error\n",
        "import numpy as np\n",
        "\n",
        "# Select final features\n",
        "final_features = [\"Close\", \"Open\", \"Low\", \"High\"]\n",
        "X = bitcoin_df[final_features]\n",
        "y = bitcoin_df[\"Target\"]  # Next day's closing price\n",
        "\n",
        "# Drop rows with NaN values in the target variable (y) before splitting\n",
        "X = X[~y.isna()]\n",
        "y = y[~y.isna()]\n",
        "\n",
        "# Split data (80% training, 20% testing)\n",
        "X_train, X_test, y_train, y_test = train_test_split(X, y, test_size=0.2, random_state=42)\n",
        "\n",
        "# Initialize models\n",
        "lr = LinearRegression()\n",
        "rf = RandomForestRegressor(n_estimators=100, random_state=42)\n",
        "knn = KNeighborsRegressor(n_neighbors=5)\n",
        "\n",
        "# Train models\n",
        "lr.fit(X_train, y_train)\n",
        "rf.fit(X_train, y_train)\n",
        "knn.fit(X_train, y_train)"
      ],
      "metadata": {
        "colab": {
          "base_uri": "https://localhost:8080/",
          "height": 80
        },
        "id": "wEi7OxJBdAha",
        "outputId": "297203df-7d77-4cd2-e4b4-f121de18fe13"
      },
      "execution_count": null,
      "outputs": [
        {
          "output_type": "execute_result",
          "data": {
            "text/plain": [
              "KNeighborsRegressor()"
            ],
            "text/html": [
              "<style>#sk-container-id-1 {\n",
              "  /* Definition of color scheme common for light and dark mode */\n",
              "  --sklearn-color-text: #000;\n",
              "  --sklearn-color-text-muted: #666;\n",
              "  --sklearn-color-line: gray;\n",
              "  /* Definition of color scheme for unfitted estimators */\n",
              "  --sklearn-color-unfitted-level-0: #fff5e6;\n",
              "  --sklearn-color-unfitted-level-1: #f6e4d2;\n",
              "  --sklearn-color-unfitted-level-2: #ffe0b3;\n",
              "  --sklearn-color-unfitted-level-3: chocolate;\n",
              "  /* Definition of color scheme for fitted estimators */\n",
              "  --sklearn-color-fitted-level-0: #f0f8ff;\n",
              "  --sklearn-color-fitted-level-1: #d4ebff;\n",
              "  --sklearn-color-fitted-level-2: #b3dbfd;\n",
              "  --sklearn-color-fitted-level-3: cornflowerblue;\n",
              "\n",
              "  /* Specific color for light theme */\n",
              "  --sklearn-color-text-on-default-background: var(--sg-text-color, var(--theme-code-foreground, var(--jp-content-font-color1, black)));\n",
              "  --sklearn-color-background: var(--sg-background-color, var(--theme-background, var(--jp-layout-color0, white)));\n",
              "  --sklearn-color-border-box: var(--sg-text-color, var(--theme-code-foreground, var(--jp-content-font-color1, black)));\n",
              "  --sklearn-color-icon: #696969;\n",
              "\n",
              "  @media (prefers-color-scheme: dark) {\n",
              "    /* Redefinition of color scheme for dark theme */\n",
              "    --sklearn-color-text-on-default-background: var(--sg-text-color, var(--theme-code-foreground, var(--jp-content-font-color1, white)));\n",
              "    --sklearn-color-background: var(--sg-background-color, var(--theme-background, var(--jp-layout-color0, #111)));\n",
              "    --sklearn-color-border-box: var(--sg-text-color, var(--theme-code-foreground, var(--jp-content-font-color1, white)));\n",
              "    --sklearn-color-icon: #878787;\n",
              "  }\n",
              "}\n",
              "\n",
              "#sk-container-id-1 {\n",
              "  color: var(--sklearn-color-text);\n",
              "}\n",
              "\n",
              "#sk-container-id-1 pre {\n",
              "  padding: 0;\n",
              "}\n",
              "\n",
              "#sk-container-id-1 input.sk-hidden--visually {\n",
              "  border: 0;\n",
              "  clip: rect(1px 1px 1px 1px);\n",
              "  clip: rect(1px, 1px, 1px, 1px);\n",
              "  height: 1px;\n",
              "  margin: -1px;\n",
              "  overflow: hidden;\n",
              "  padding: 0;\n",
              "  position: absolute;\n",
              "  width: 1px;\n",
              "}\n",
              "\n",
              "#sk-container-id-1 div.sk-dashed-wrapped {\n",
              "  border: 1px dashed var(--sklearn-color-line);\n",
              "  margin: 0 0.4em 0.5em 0.4em;\n",
              "  box-sizing: border-box;\n",
              "  padding-bottom: 0.4em;\n",
              "  background-color: var(--sklearn-color-background);\n",
              "}\n",
              "\n",
              "#sk-container-id-1 div.sk-container {\n",
              "  /* jupyter's `normalize.less` sets `[hidden] { display: none; }`\n",
              "     but bootstrap.min.css set `[hidden] { display: none !important; }`\n",
              "     so we also need the `!important` here to be able to override the\n",
              "     default hidden behavior on the sphinx rendered scikit-learn.org.\n",
              "     See: https://github.com/scikit-learn/scikit-learn/issues/21755 */\n",
              "  display: inline-block !important;\n",
              "  position: relative;\n",
              "}\n",
              "\n",
              "#sk-container-id-1 div.sk-text-repr-fallback {\n",
              "  display: none;\n",
              "}\n",
              "\n",
              "div.sk-parallel-item,\n",
              "div.sk-serial,\n",
              "div.sk-item {\n",
              "  /* draw centered vertical line to link estimators */\n",
              "  background-image: linear-gradient(var(--sklearn-color-text-on-default-background), var(--sklearn-color-text-on-default-background));\n",
              "  background-size: 2px 100%;\n",
              "  background-repeat: no-repeat;\n",
              "  background-position: center center;\n",
              "}\n",
              "\n",
              "/* Parallel-specific style estimator block */\n",
              "\n",
              "#sk-container-id-1 div.sk-parallel-item::after {\n",
              "  content: \"\";\n",
              "  width: 100%;\n",
              "  border-bottom: 2px solid var(--sklearn-color-text-on-default-background);\n",
              "  flex-grow: 1;\n",
              "}\n",
              "\n",
              "#sk-container-id-1 div.sk-parallel {\n",
              "  display: flex;\n",
              "  align-items: stretch;\n",
              "  justify-content: center;\n",
              "  background-color: var(--sklearn-color-background);\n",
              "  position: relative;\n",
              "}\n",
              "\n",
              "#sk-container-id-1 div.sk-parallel-item {\n",
              "  display: flex;\n",
              "  flex-direction: column;\n",
              "}\n",
              "\n",
              "#sk-container-id-1 div.sk-parallel-item:first-child::after {\n",
              "  align-self: flex-end;\n",
              "  width: 50%;\n",
              "}\n",
              "\n",
              "#sk-container-id-1 div.sk-parallel-item:last-child::after {\n",
              "  align-self: flex-start;\n",
              "  width: 50%;\n",
              "}\n",
              "\n",
              "#sk-container-id-1 div.sk-parallel-item:only-child::after {\n",
              "  width: 0;\n",
              "}\n",
              "\n",
              "/* Serial-specific style estimator block */\n",
              "\n",
              "#sk-container-id-1 div.sk-serial {\n",
              "  display: flex;\n",
              "  flex-direction: column;\n",
              "  align-items: center;\n",
              "  background-color: var(--sklearn-color-background);\n",
              "  padding-right: 1em;\n",
              "  padding-left: 1em;\n",
              "}\n",
              "\n",
              "\n",
              "/* Toggleable style: style used for estimator/Pipeline/ColumnTransformer box that is\n",
              "clickable and can be expanded/collapsed.\n",
              "- Pipeline and ColumnTransformer use this feature and define the default style\n",
              "- Estimators will overwrite some part of the style using the `sk-estimator` class\n",
              "*/\n",
              "\n",
              "/* Pipeline and ColumnTransformer style (default) */\n",
              "\n",
              "#sk-container-id-1 div.sk-toggleable {\n",
              "  /* Default theme specific background. It is overwritten whether we have a\n",
              "  specific estimator or a Pipeline/ColumnTransformer */\n",
              "  background-color: var(--sklearn-color-background);\n",
              "}\n",
              "\n",
              "/* Toggleable label */\n",
              "#sk-container-id-1 label.sk-toggleable__label {\n",
              "  cursor: pointer;\n",
              "  display: flex;\n",
              "  width: 100%;\n",
              "  margin-bottom: 0;\n",
              "  padding: 0.5em;\n",
              "  box-sizing: border-box;\n",
              "  text-align: center;\n",
              "  align-items: start;\n",
              "  justify-content: space-between;\n",
              "  gap: 0.5em;\n",
              "}\n",
              "\n",
              "#sk-container-id-1 label.sk-toggleable__label .caption {\n",
              "  font-size: 0.6rem;\n",
              "  font-weight: lighter;\n",
              "  color: var(--sklearn-color-text-muted);\n",
              "}\n",
              "\n",
              "#sk-container-id-1 label.sk-toggleable__label-arrow:before {\n",
              "  /* Arrow on the left of the label */\n",
              "  content: \"▸\";\n",
              "  float: left;\n",
              "  margin-right: 0.25em;\n",
              "  color: var(--sklearn-color-icon);\n",
              "}\n",
              "\n",
              "#sk-container-id-1 label.sk-toggleable__label-arrow:hover:before {\n",
              "  color: var(--sklearn-color-text);\n",
              "}\n",
              "\n",
              "/* Toggleable content - dropdown */\n",
              "\n",
              "#sk-container-id-1 div.sk-toggleable__content {\n",
              "  max-height: 0;\n",
              "  max-width: 0;\n",
              "  overflow: hidden;\n",
              "  text-align: left;\n",
              "  /* unfitted */\n",
              "  background-color: var(--sklearn-color-unfitted-level-0);\n",
              "}\n",
              "\n",
              "#sk-container-id-1 div.sk-toggleable__content.fitted {\n",
              "  /* fitted */\n",
              "  background-color: var(--sklearn-color-fitted-level-0);\n",
              "}\n",
              "\n",
              "#sk-container-id-1 div.sk-toggleable__content pre {\n",
              "  margin: 0.2em;\n",
              "  border-radius: 0.25em;\n",
              "  color: var(--sklearn-color-text);\n",
              "  /* unfitted */\n",
              "  background-color: var(--sklearn-color-unfitted-level-0);\n",
              "}\n",
              "\n",
              "#sk-container-id-1 div.sk-toggleable__content.fitted pre {\n",
              "  /* unfitted */\n",
              "  background-color: var(--sklearn-color-fitted-level-0);\n",
              "}\n",
              "\n",
              "#sk-container-id-1 input.sk-toggleable__control:checked~div.sk-toggleable__content {\n",
              "  /* Expand drop-down */\n",
              "  max-height: 200px;\n",
              "  max-width: 100%;\n",
              "  overflow: auto;\n",
              "}\n",
              "\n",
              "#sk-container-id-1 input.sk-toggleable__control:checked~label.sk-toggleable__label-arrow:before {\n",
              "  content: \"▾\";\n",
              "}\n",
              "\n",
              "/* Pipeline/ColumnTransformer-specific style */\n",
              "\n",
              "#sk-container-id-1 div.sk-label input.sk-toggleable__control:checked~label.sk-toggleable__label {\n",
              "  color: var(--sklearn-color-text);\n",
              "  background-color: var(--sklearn-color-unfitted-level-2);\n",
              "}\n",
              "\n",
              "#sk-container-id-1 div.sk-label.fitted input.sk-toggleable__control:checked~label.sk-toggleable__label {\n",
              "  background-color: var(--sklearn-color-fitted-level-2);\n",
              "}\n",
              "\n",
              "/* Estimator-specific style */\n",
              "\n",
              "/* Colorize estimator box */\n",
              "#sk-container-id-1 div.sk-estimator input.sk-toggleable__control:checked~label.sk-toggleable__label {\n",
              "  /* unfitted */\n",
              "  background-color: var(--sklearn-color-unfitted-level-2);\n",
              "}\n",
              "\n",
              "#sk-container-id-1 div.sk-estimator.fitted input.sk-toggleable__control:checked~label.sk-toggleable__label {\n",
              "  /* fitted */\n",
              "  background-color: var(--sklearn-color-fitted-level-2);\n",
              "}\n",
              "\n",
              "#sk-container-id-1 div.sk-label label.sk-toggleable__label,\n",
              "#sk-container-id-1 div.sk-label label {\n",
              "  /* The background is the default theme color */\n",
              "  color: var(--sklearn-color-text-on-default-background);\n",
              "}\n",
              "\n",
              "/* On hover, darken the color of the background */\n",
              "#sk-container-id-1 div.sk-label:hover label.sk-toggleable__label {\n",
              "  color: var(--sklearn-color-text);\n",
              "  background-color: var(--sklearn-color-unfitted-level-2);\n",
              "}\n",
              "\n",
              "/* Label box, darken color on hover, fitted */\n",
              "#sk-container-id-1 div.sk-label.fitted:hover label.sk-toggleable__label.fitted {\n",
              "  color: var(--sklearn-color-text);\n",
              "  background-color: var(--sklearn-color-fitted-level-2);\n",
              "}\n",
              "\n",
              "/* Estimator label */\n",
              "\n",
              "#sk-container-id-1 div.sk-label label {\n",
              "  font-family: monospace;\n",
              "  font-weight: bold;\n",
              "  display: inline-block;\n",
              "  line-height: 1.2em;\n",
              "}\n",
              "\n",
              "#sk-container-id-1 div.sk-label-container {\n",
              "  text-align: center;\n",
              "}\n",
              "\n",
              "/* Estimator-specific */\n",
              "#sk-container-id-1 div.sk-estimator {\n",
              "  font-family: monospace;\n",
              "  border: 1px dotted var(--sklearn-color-border-box);\n",
              "  border-radius: 0.25em;\n",
              "  box-sizing: border-box;\n",
              "  margin-bottom: 0.5em;\n",
              "  /* unfitted */\n",
              "  background-color: var(--sklearn-color-unfitted-level-0);\n",
              "}\n",
              "\n",
              "#sk-container-id-1 div.sk-estimator.fitted {\n",
              "  /* fitted */\n",
              "  background-color: var(--sklearn-color-fitted-level-0);\n",
              "}\n",
              "\n",
              "/* on hover */\n",
              "#sk-container-id-1 div.sk-estimator:hover {\n",
              "  /* unfitted */\n",
              "  background-color: var(--sklearn-color-unfitted-level-2);\n",
              "}\n",
              "\n",
              "#sk-container-id-1 div.sk-estimator.fitted:hover {\n",
              "  /* fitted */\n",
              "  background-color: var(--sklearn-color-fitted-level-2);\n",
              "}\n",
              "\n",
              "/* Specification for estimator info (e.g. \"i\" and \"?\") */\n",
              "\n",
              "/* Common style for \"i\" and \"?\" */\n",
              "\n",
              ".sk-estimator-doc-link,\n",
              "a:link.sk-estimator-doc-link,\n",
              "a:visited.sk-estimator-doc-link {\n",
              "  float: right;\n",
              "  font-size: smaller;\n",
              "  line-height: 1em;\n",
              "  font-family: monospace;\n",
              "  background-color: var(--sklearn-color-background);\n",
              "  border-radius: 1em;\n",
              "  height: 1em;\n",
              "  width: 1em;\n",
              "  text-decoration: none !important;\n",
              "  margin-left: 0.5em;\n",
              "  text-align: center;\n",
              "  /* unfitted */\n",
              "  border: var(--sklearn-color-unfitted-level-1) 1pt solid;\n",
              "  color: var(--sklearn-color-unfitted-level-1);\n",
              "}\n",
              "\n",
              ".sk-estimator-doc-link.fitted,\n",
              "a:link.sk-estimator-doc-link.fitted,\n",
              "a:visited.sk-estimator-doc-link.fitted {\n",
              "  /* fitted */\n",
              "  border: var(--sklearn-color-fitted-level-1) 1pt solid;\n",
              "  color: var(--sklearn-color-fitted-level-1);\n",
              "}\n",
              "\n",
              "/* On hover */\n",
              "div.sk-estimator:hover .sk-estimator-doc-link:hover,\n",
              ".sk-estimator-doc-link:hover,\n",
              "div.sk-label-container:hover .sk-estimator-doc-link:hover,\n",
              ".sk-estimator-doc-link:hover {\n",
              "  /* unfitted */\n",
              "  background-color: var(--sklearn-color-unfitted-level-3);\n",
              "  color: var(--sklearn-color-background);\n",
              "  text-decoration: none;\n",
              "}\n",
              "\n",
              "div.sk-estimator.fitted:hover .sk-estimator-doc-link.fitted:hover,\n",
              ".sk-estimator-doc-link.fitted:hover,\n",
              "div.sk-label-container:hover .sk-estimator-doc-link.fitted:hover,\n",
              ".sk-estimator-doc-link.fitted:hover {\n",
              "  /* fitted */\n",
              "  background-color: var(--sklearn-color-fitted-level-3);\n",
              "  color: var(--sklearn-color-background);\n",
              "  text-decoration: none;\n",
              "}\n",
              "\n",
              "/* Span, style for the box shown on hovering the info icon */\n",
              ".sk-estimator-doc-link span {\n",
              "  display: none;\n",
              "  z-index: 9999;\n",
              "  position: relative;\n",
              "  font-weight: normal;\n",
              "  right: .2ex;\n",
              "  padding: .5ex;\n",
              "  margin: .5ex;\n",
              "  width: min-content;\n",
              "  min-width: 20ex;\n",
              "  max-width: 50ex;\n",
              "  color: var(--sklearn-color-text);\n",
              "  box-shadow: 2pt 2pt 4pt #999;\n",
              "  /* unfitted */\n",
              "  background: var(--sklearn-color-unfitted-level-0);\n",
              "  border: .5pt solid var(--sklearn-color-unfitted-level-3);\n",
              "}\n",
              "\n",
              ".sk-estimator-doc-link.fitted span {\n",
              "  /* fitted */\n",
              "  background: var(--sklearn-color-fitted-level-0);\n",
              "  border: var(--sklearn-color-fitted-level-3);\n",
              "}\n",
              "\n",
              ".sk-estimator-doc-link:hover span {\n",
              "  display: block;\n",
              "}\n",
              "\n",
              "/* \"?\"-specific style due to the `<a>` HTML tag */\n",
              "\n",
              "#sk-container-id-1 a.estimator_doc_link {\n",
              "  float: right;\n",
              "  font-size: 1rem;\n",
              "  line-height: 1em;\n",
              "  font-family: monospace;\n",
              "  background-color: var(--sklearn-color-background);\n",
              "  border-radius: 1rem;\n",
              "  height: 1rem;\n",
              "  width: 1rem;\n",
              "  text-decoration: none;\n",
              "  /* unfitted */\n",
              "  color: var(--sklearn-color-unfitted-level-1);\n",
              "  border: var(--sklearn-color-unfitted-level-1) 1pt solid;\n",
              "}\n",
              "\n",
              "#sk-container-id-1 a.estimator_doc_link.fitted {\n",
              "  /* fitted */\n",
              "  border: var(--sklearn-color-fitted-level-1) 1pt solid;\n",
              "  color: var(--sklearn-color-fitted-level-1);\n",
              "}\n",
              "\n",
              "/* On hover */\n",
              "#sk-container-id-1 a.estimator_doc_link:hover {\n",
              "  /* unfitted */\n",
              "  background-color: var(--sklearn-color-unfitted-level-3);\n",
              "  color: var(--sklearn-color-background);\n",
              "  text-decoration: none;\n",
              "}\n",
              "\n",
              "#sk-container-id-1 a.estimator_doc_link.fitted:hover {\n",
              "  /* fitted */\n",
              "  background-color: var(--sklearn-color-fitted-level-3);\n",
              "}\n",
              "</style><div id=\"sk-container-id-1\" class=\"sk-top-container\"><div class=\"sk-text-repr-fallback\"><pre>KNeighborsRegressor()</pre><b>In a Jupyter environment, please rerun this cell to show the HTML representation or trust the notebook. <br />On GitHub, the HTML representation is unable to render, please try loading this page with nbviewer.org.</b></div><div class=\"sk-container\" hidden><div class=\"sk-item\"><div class=\"sk-estimator fitted sk-toggleable\"><input class=\"sk-toggleable__control sk-hidden--visually\" id=\"sk-estimator-id-1\" type=\"checkbox\" checked><label for=\"sk-estimator-id-1\" class=\"sk-toggleable__label fitted sk-toggleable__label-arrow\"><div><div>KNeighborsRegressor</div></div><div><a class=\"sk-estimator-doc-link fitted\" rel=\"noreferrer\" target=\"_blank\" href=\"https://scikit-learn.org/1.6/modules/generated/sklearn.neighbors.KNeighborsRegressor.html\">?<span>Documentation for KNeighborsRegressor</span></a><span class=\"sk-estimator-doc-link fitted\">i<span>Fitted</span></span></div></label><div class=\"sk-toggleable__content fitted\"><pre>KNeighborsRegressor()</pre></div> </div></div></div></div>"
            ]
          },
          "metadata": {},
          "execution_count": 36
        }
      ]
    },
    {
      "cell_type": "code",
      "source": [
        "from sklearn.model_selection import train_test_split\n",
        "\n",
        "# Select final features\n",
        "final_features = [\"Close\", \"Open\", \"Low\", \"High\"]\n",
        "X = bitcoin_df[final_features]\n",
        "y = bitcoin_df[\"Target\"]  # Next day's closing price\n",
        "\n",
        "# Drop NaN values in the target variable\n",
        "X = X[~y.isna()]\n",
        "y = y[~y.isna()]\n",
        "\n",
        "# Split data (80% training, 20% testing)\n",
        "X_train, X_test, y_train, y_test = train_test_split(X, y, test_size=0.2, random_state=42)\n"
      ],
      "metadata": {
        "id": "RHu9G_4WdsA1"
      },
      "execution_count": null,
      "outputs": []
    },
    {
      "cell_type": "code",
      "source": [
        "from sklearn.linear_model import LinearRegression\n",
        "from sklearn.ensemble import RandomForestRegressor\n",
        "from sklearn.neighbors import KNeighborsRegressor\n",
        "\n",
        "# Initialize models\n",
        "lr = LinearRegression()\n",
        "rf = RandomForestRegressor(n_estimators=100, random_state=42)\n",
        "knn = KNeighborsRegressor(n_neighbors=5)\n",
        "\n",
        "# Train models\n",
        "lr.fit(X_train, y_train)\n",
        "rf.fit(X_train, y_train)\n",
        "knn.fit(X_train, y_train)\n",
        "\n",
        "print(\"Models trained successfully!\")\n"
      ],
      "metadata": {
        "colab": {
          "base_uri": "https://localhost:8080/"
        },
        "id": "wAA8bNGTdTpt",
        "outputId": "d8a9352a-3439-4a64-e9c8-17bf93a9a6cf"
      },
      "execution_count": null,
      "outputs": [
        {
          "output_type": "stream",
          "name": "stdout",
          "text": [
            "Models trained successfully!\n"
          ]
        }
      ]
    },
    {
      "cell_type": "code",
      "source": [
        "!pip install ace-tools # Installing ace-tools. If this does not work, you may need to try pip install ace_tools"
      ],
      "metadata": {
        "colab": {
          "base_uri": "https://localhost:8080/"
        },
        "id": "IsJXraiVl9X3",
        "outputId": "4a99932e-a749-44ba-9abd-b07bf406ea14"
      },
      "execution_count": null,
      "outputs": [
        {
          "output_type": "stream",
          "name": "stdout",
          "text": [
            "Collecting ace-tools\n",
            "  Downloading ace_tools-0.0-py3-none-any.whl.metadata (300 bytes)\n",
            "Downloading ace_tools-0.0-py3-none-any.whl (1.1 kB)\n",
            "Installing collected packages: ace-tools\n",
            "Successfully installed ace-tools-0.0\n"
          ]
        }
      ]
    },
    {
      "cell_type": "code",
      "source": [
        "# Import necessary libraries for evaluation\n",
        "from sklearn.metrics import mean_squared_error\n",
        "import numpy as np\n",
        "import pandas as pd\n",
        "import ace_tools as tools # Importing ace_tools for display_dataframe_to_user\n",
        "\n",
        "# Make predictions on the test set\n",
        "y_pred_lr = lr.predict(X_test)\n",
        "y_pred_rf = rf.predict(X_test)\n",
        "y_pred_knn = knn.predict(X_test)\n",
        "\n",
        "# Calculate RMSE for each model\n",
        "rmse_lr = np.sqrt(mean_squared_error(y_test, y_pred_lr))\n",
        "rmse_rf = np.sqrt(mean_squared_error(y_test, y_pred_rf))\n",
        "rmse_knn = np.sqrt(mean_squared_error(y_test, y_pred_knn))\n",
        "\n",
        "# Create a DataFrame to store results\n",
        "results_df = pd.DataFrame({\n",
        "    \"Model\": [\"Linear Regression\", \"Random Forest\", \"K-Nearest Neighbors\"],\n",
        "    \"RMSE\": [rmse_lr, rmse_rf, rmse_knn]\n",
        "}).sort_values(by=\"RMSE\")  # Sort by RMSE (lower is better)\n",
        "\n",
        "# Display the results\n",
        "tools.display_dataframe_to_user(name=\"Model Performance Comparison\", dataframe=results_df) # Using the display_dataframe_to_user function from ace_tools"
      ],
      "metadata": {
        "id": "4ou7mAJcmHvN",
        "outputId": "0ecfc86c-ae93-4a7b-c2a2-d34c58384ca1",
        "colab": {
          "base_uri": "https://localhost:8080/",
          "height": 403
        }
      },
      "execution_count": null,
      "outputs": [
        {
          "output_type": "error",
          "ename": "ModuleNotFoundError",
          "evalue": "No module named 'ace_tools'",
          "traceback": [
            "\u001b[0;31m---------------------------------------------------------------------------\u001b[0m",
            "\u001b[0;31mModuleNotFoundError\u001b[0m                       Traceback (most recent call last)",
            "\u001b[0;32m<ipython-input-41-828499d38b7c>\u001b[0m in \u001b[0;36m<cell line: 0>\u001b[0;34m()\u001b[0m\n\u001b[1;32m      3\u001b[0m \u001b[0;32mimport\u001b[0m \u001b[0mnumpy\u001b[0m \u001b[0;32mas\u001b[0m \u001b[0mnp\u001b[0m\u001b[0;34m\u001b[0m\u001b[0;34m\u001b[0m\u001b[0m\n\u001b[1;32m      4\u001b[0m \u001b[0;32mimport\u001b[0m \u001b[0mpandas\u001b[0m \u001b[0;32mas\u001b[0m \u001b[0mpd\u001b[0m\u001b[0;34m\u001b[0m\u001b[0;34m\u001b[0m\u001b[0m\n\u001b[0;32m----> 5\u001b[0;31m \u001b[0;32mimport\u001b[0m \u001b[0mace_tools\u001b[0m \u001b[0;32mas\u001b[0m \u001b[0mtools\u001b[0m \u001b[0;31m# Importing ace_tools for display_dataframe_to_user\u001b[0m\u001b[0;34m\u001b[0m\u001b[0;34m\u001b[0m\u001b[0m\n\u001b[0m\u001b[1;32m      6\u001b[0m \u001b[0;34m\u001b[0m\u001b[0m\n\u001b[1;32m      7\u001b[0m \u001b[0;31m# Make predictions on the test set\u001b[0m\u001b[0;34m\u001b[0m\u001b[0;34m\u001b[0m\u001b[0m\n",
            "\u001b[0;31mModuleNotFoundError\u001b[0m: No module named 'ace_tools'",
            "",
            "\u001b[0;31m---------------------------------------------------------------------------\u001b[0;32m\nNOTE: If your import is failing due to a missing package, you can\nmanually install dependencies using either !pip or !apt.\n\nTo view examples of installing some common dependencies, click the\n\"Open Examples\" button below.\n\u001b[0;31m---------------------------------------------------------------------------\u001b[0m\n"
          ],
          "errorDetails": {
            "actions": [
              {
                "action": "open_url",
                "actionText": "Open Examples",
                "url": "/notebooks/snippets/importing_libraries.ipynb"
              }
            ]
          }
        }
      ]
    },
    {
      "cell_type": "code",
      "source": [
        "!pip install ace-tools # Installing ace-tools. If this does not work, you may need to try pip install ace_tools\n",
        "# Import necessary libraries for evaluation\n",
        "from sklearn.metrics import mean_squared_error\n",
        "import numpy as np\n",
        "import pandas as pd\n",
        "import ace_tools as tools # Importing ace_tools for display_dataframe_to_user\n",
        "\n",
        "# Make predictions on the test set\n",
        "y_pred_lr = lr.predict(X_test)\n",
        "y_pred_rf = rf.predict(X_test)\n",
        "y_pred_knn = knn.predict(X_test)\n",
        "\n",
        "# Calculate RMSE for each model\n",
        "rmse_lr = np.sqrt(mean_squared_error(y_test, y_pred_lr))\n",
        "rmse_rf = np.sqrt(mean_squared_error(y_test, y_pred_rf))\n",
        "rmse_knn = np.sqrt(mean_squared_error(y_test, y_pred_knn))\n",
        "\n",
        "# Create a DataFrame to store results\n",
        "results_df = pd.DataFrame({\n",
        "    \"Model\": [\"Linear Regression\", \"Random Forest\", \"K-Nearest Neighbors\"],\n",
        "    \"RMSE\": [rmse_lr, rmse_rf, rmse_knn]\n",
        "}).sort_values(by=\"RMSE\")  # Sort by RMSE (lower is better)\n",
        "\n",
        "# Display the results\n",
        "tools.display_dataframe_to_user(name=\"Model Performance Comparison\", dataframe=results_df) # Using the display_dataframe_to_user function from ace_tools"
      ],
      "metadata": {
        "colab": {
          "base_uri": "https://localhost:8080/",
          "height": 422
        },
        "id": "uG6WCN6tvyDD",
        "outputId": "b355fe45-6963-4b24-9081-6309905ffe73"
      },
      "execution_count": null,
      "outputs": [
        {
          "output_type": "stream",
          "name": "stdout",
          "text": [
            "Requirement already satisfied: ace-tools in /usr/local/lib/python3.11/dist-packages (0.0)\n"
          ]
        },
        {
          "output_type": "error",
          "ename": "ModuleNotFoundError",
          "evalue": "No module named 'ace_tools'",
          "traceback": [
            "\u001b[0;31m---------------------------------------------------------------------------\u001b[0m",
            "\u001b[0;31mModuleNotFoundError\u001b[0m                       Traceback (most recent call last)",
            "\u001b[0;32m<ipython-input-42-c41c2edcf73f>\u001b[0m in \u001b[0;36m<cell line: 0>\u001b[0;34m()\u001b[0m\n\u001b[1;32m      4\u001b[0m \u001b[0;32mimport\u001b[0m \u001b[0mnumpy\u001b[0m \u001b[0;32mas\u001b[0m \u001b[0mnp\u001b[0m\u001b[0;34m\u001b[0m\u001b[0;34m\u001b[0m\u001b[0m\n\u001b[1;32m      5\u001b[0m \u001b[0;32mimport\u001b[0m \u001b[0mpandas\u001b[0m \u001b[0;32mas\u001b[0m \u001b[0mpd\u001b[0m\u001b[0;34m\u001b[0m\u001b[0;34m\u001b[0m\u001b[0m\n\u001b[0;32m----> 6\u001b[0;31m \u001b[0;32mimport\u001b[0m \u001b[0mace_tools\u001b[0m \u001b[0;32mas\u001b[0m \u001b[0mtools\u001b[0m \u001b[0;31m# Importing ace_tools for display_dataframe_to_user\u001b[0m\u001b[0;34m\u001b[0m\u001b[0;34m\u001b[0m\u001b[0m\n\u001b[0m\u001b[1;32m      7\u001b[0m \u001b[0;34m\u001b[0m\u001b[0m\n\u001b[1;32m      8\u001b[0m \u001b[0;31m# Make predictions on the test set\u001b[0m\u001b[0;34m\u001b[0m\u001b[0;34m\u001b[0m\u001b[0m\n",
            "\u001b[0;31mModuleNotFoundError\u001b[0m: No module named 'ace_tools'",
            "",
            "\u001b[0;31m---------------------------------------------------------------------------\u001b[0;32m\nNOTE: If your import is failing due to a missing package, you can\nmanually install dependencies using either !pip or !apt.\n\nTo view examples of installing some common dependencies, click the\n\"Open Examples\" button below.\n\u001b[0;31m---------------------------------------------------------------------------\u001b[0m\n"
          ],
          "errorDetails": {
            "actions": [
              {
                "action": "open_url",
                "actionText": "Open Examples",
                "url": "/notebooks/snippets/importing_libraries.ipynb"
              }
            ]
          }
        }
      ]
    },
    {
      "cell_type": "code",
      "source": [
        "from sklearn.metrics import mean_squared_error\n",
        "import numpy as np\n",
        "\n",
        "# Make predictions on the test set\n",
        "y_pred_lr = lr.predict(X_test)\n",
        "y_pred_rf = rf.predict(X_test)\n",
        "y_pred_knn = knn.predict(X_test)\n",
        "\n",
        "# Calculate RMSE for each model\n",
        "rmse_lr = np.sqrt(mean_squared_error(y_test, y_pred_lr))\n",
        "rmse_rf = np.sqrt(mean_squared_error(y_test, y_pred_rf))\n",
        "rmse_knn = np.sqrt(mean_squared_error(y_test, y_pred_knn))\n",
        "\n",
        "# Print RMSE values\n",
        "print(f\"Linear Regression RMSE: {rmse_lr:.4f}\")\n",
        "print(f\"Random Forest RMSE: {rmse_rf:.4f}\")\n",
        "print(f\"KNN RMSE: {rmse_knn:.4f}\")\n"
      ],
      "metadata": {
        "colab": {
          "base_uri": "https://localhost:8080/"
        },
        "id": "X07c0TanwAU_",
        "outputId": "aba87b86-2eab-4384-cf7c-a9c25e6d4ee1"
      },
      "execution_count": null,
      "outputs": [
        {
          "output_type": "stream",
          "name": "stdout",
          "text": [
            "Linear Regression RMSE: 1265.5301\n",
            "Random Forest RMSE: 1477.2964\n",
            "KNN RMSE: 1451.7730\n"
          ]
        }
      ]
    },
    {
      "cell_type": "code",
      "source": [
        "import requests\n",
        "import pandas as pd\n",
        "import time\n",
        "\n",
        "# Function to fetch live Bitcoin price data from CoinGecko API\n",
        "def get_bitcoin_price():\n",
        "    url = \"https://api.coingecko.com/api/v3/simple/price?ids=bitcoin&vs_currencies=usd\"\n",
        "    response = requests.get(url)\n",
        "    data = response.json()\n",
        "    return data[\"bitcoin\"][\"usd\"]\n",
        "\n",
        "# Collect price data over time (every 5 seconds for demo purposes)\n",
        "price_data = []\n",
        "for i in range(5):  # Collect 5 samples\n",
        "    price = get_bitcoin_price()\n",
        "    timestamp = pd.Timestamp.now()\n",
        "    price_data.append({\"Time\": timestamp, \"Price\": price})\n",
        "    print(f\"{timestamp}: Bitcoin Price = ${price}\")\n",
        "    time.sleep(5)  # Wait 5 seconds before next request\n",
        "\n",
        "# Convert to DataFrame\n",
        "df = pd.DataFrame(price_data)\n",
        "print(df.head(5))  # Show the first few rows\n"
      ],
      "metadata": {
        "colab": {
          "base_uri": "https://localhost:8080/",
          "height": 314
        },
        "id": "oX1uVvbZQB_e",
        "outputId": "5b072c0f-061c-4340-f389-45c4a5df6771"
      },
      "execution_count": null,
      "outputs": [
        {
          "output_type": "stream",
          "name": "stdout",
          "text": [
            "2025-02-04 08:38:31.151368: Bitcoin Price = $98677\n",
            "2025-02-04 08:38:36.218014: Bitcoin Price = $98677\n",
            "2025-02-04 08:38:41.281885: Bitcoin Price = $98677\n",
            "2025-02-04 08:38:46.335969: Bitcoin Price = $98677\n",
            "2025-02-04 08:38:51.395639: Bitcoin Price = $98677\n"
          ]
        },
        {
          "output_type": "error",
          "ename": "KeyboardInterrupt",
          "evalue": "",
          "traceback": [
            "\u001b[0;31m---------------------------------------------------------------------------\u001b[0m",
            "\u001b[0;31mKeyboardInterrupt\u001b[0m                         Traceback (most recent call last)",
            "\u001b[0;32m<ipython-input-44-21d8117d4bdc>\u001b[0m in \u001b[0;36m<cell line: 0>\u001b[0;34m()\u001b[0m\n\u001b[1;32m     17\u001b[0m     \u001b[0mprice_data\u001b[0m\u001b[0;34m.\u001b[0m\u001b[0mappend\u001b[0m\u001b[0;34m(\u001b[0m\u001b[0;34m{\u001b[0m\u001b[0;34m\"Time\"\u001b[0m\u001b[0;34m:\u001b[0m \u001b[0mtimestamp\u001b[0m\u001b[0;34m,\u001b[0m \u001b[0;34m\"Price\"\u001b[0m\u001b[0;34m:\u001b[0m \u001b[0mprice\u001b[0m\u001b[0;34m}\u001b[0m\u001b[0;34m)\u001b[0m\u001b[0;34m\u001b[0m\u001b[0;34m\u001b[0m\u001b[0m\n\u001b[1;32m     18\u001b[0m     \u001b[0mprint\u001b[0m\u001b[0;34m(\u001b[0m\u001b[0;34mf\"{timestamp}: Bitcoin Price = ${price}\"\u001b[0m\u001b[0;34m)\u001b[0m\u001b[0;34m\u001b[0m\u001b[0;34m\u001b[0m\u001b[0m\n\u001b[0;32m---> 19\u001b[0;31m     \u001b[0mtime\u001b[0m\u001b[0;34m.\u001b[0m\u001b[0msleep\u001b[0m\u001b[0;34m(\u001b[0m\u001b[0;36m5\u001b[0m\u001b[0;34m)\u001b[0m  \u001b[0;31m# Wait 5 seconds before next request\u001b[0m\u001b[0;34m\u001b[0m\u001b[0;34m\u001b[0m\u001b[0m\n\u001b[0m\u001b[1;32m     20\u001b[0m \u001b[0;34m\u001b[0m\u001b[0m\n\u001b[1;32m     21\u001b[0m \u001b[0;31m# Convert to DataFrame\u001b[0m\u001b[0;34m\u001b[0m\u001b[0;34m\u001b[0m\u001b[0m\n",
            "\u001b[0;31mKeyboardInterrupt\u001b[0m: "
          ]
        }
      ]
    },
    {
      "cell_type": "code",
      "source": [
        "import requests\n",
        "import pandas as pd\n",
        "import time\n",
        "\n",
        "# Function to fetch live Bitcoin price data from CoinGecko API\n",
        "def get_bitcoin_price():\n",
        "    url = \"https://api.coingecko.com/api/v3/simple/price?ids=bitcoin&vs_currencies=usd\"\n",
        "    response = requests.get(url)\n",
        "    data = response.json()\n",
        "\n",
        "    # Check if the expected keys exist in the response\n",
        "    if \"bitcoin\" in data and \"usd\" in data[\"bitcoin\"]:\n",
        "        return data[\"bitcoin\"][\"usd\"]\n",
        "    else:\n",
        "        print(\"Error: Unexpected API response format.\")\n",
        "        print(data)  # Print the response for debugging\n",
        "        return None  # or raise an exception\n",
        "\n",
        "# Collect price data over time (every 5 seconds for demo purposes)\n",
        "price_data = []\n",
        "for i in range(5):  # Collect 5 samples\n",
        "    price = get_bitcoin_price()\n",
        "\n",
        "    # Check if price is successfully retrieved\n",
        "    if price is not None:\n",
        "        timestamp = pd.Timestamp.now()\n",
        "        price_data.append({\"Time\": timestamp, \"Price\": price})\n",
        "        print(f\"{timestamp}: Bitcoin Price = ${price}\")\n",
        "        time.sleep(5)  # Wait 5 seconds before next request\n",
        "\n",
        "# Convert to DataFrame\n",
        "df = pd.DataFrame(price_data)\n",
        "print(df.head(5))  # Show the first few rows"
      ],
      "metadata": {
        "colab": {
          "base_uri": "https://localhost:8080/"
        },
        "id": "5RjMHeo0QlWi",
        "outputId": "d69e8163-b97e-4972-8573-e43e9dc47f1c"
      },
      "execution_count": null,
      "outputs": [
        {
          "output_type": "stream",
          "name": "stdout",
          "text": [
            "Error: Unexpected API response format.\n",
            "{'status': {'error_code': 429, 'error_message': \"You've exceeded the Rate Limit. Please visit https://www.coingecko.com/en/api/pricing to subscribe to our API plans for higher rate limits.\"}}\n",
            "Error: Unexpected API response format.\n",
            "{'status': {'error_code': 429, 'error_message': \"You've exceeded the Rate Limit. Please visit https://www.coingecko.com/en/api/pricing to subscribe to our API plans for higher rate limits.\"}}\n",
            "Error: Unexpected API response format.\n",
            "{'status': {'error_code': 429, 'error_message': \"You've exceeded the Rate Limit. Please visit https://www.coingecko.com/en/api/pricing to subscribe to our API plans for higher rate limits.\"}}\n",
            "Error: Unexpected API response format.\n",
            "{'status': {'error_code': 429, 'error_message': \"You've exceeded the Rate Limit. Please visit https://www.coingecko.com/en/api/pricing to subscribe to our API plans for higher rate limits.\"}}\n",
            "Error: Unexpected API response format.\n",
            "{'status': {'error_code': 429, 'error_message': \"You've exceeded the Rate Limit. Please visit https://www.coingecko.com/en/api/pricing to subscribe to our API plans for higher rate limits.\"}}\n",
            "Empty DataFrame\n",
            "Columns: []\n",
            "Index: []\n"
          ]
        }
      ]
    },
    {
      "cell_type": "code",
      "source": [
        "# Train models for Ethereum\n",
        "lr_eth.fit(X_train_eth, y_train_eth)\n",
        "rf_eth.fit(X_train_eth, y_train_eth)\n",
        "knn_eth.fit(X_train_eth, y_train_eth)\n",
        "\n",
        "# Predictions\n",
        "y_pred_lr_eth = lr_eth.predict(X_test_eth)\n",
        "y_pred_rf_eth = rf_eth.predict(X_test_eth)\n",
        "y_pred_knn_eth = knn_eth.predict(X_test_eth)\n",
        "\n",
        "# RMSE Calculation for Ethereum\n",
        "rmse_lr_eth = np.sqrt(mean_squared_error(y_test_eth, y_pred_lr_eth))\n",
        "rmse_rf_eth = np.sqrt(mean_squared_error(y_test_eth, y_pred_rf_eth))\n",
        "rmse_knn_eth = np.sqrt(mean_squared_error(y_test_eth, y_pred_knn_eth))\n",
        "\n",
        "# Display RMSE results\n",
        "print(f\"Ethereum Linear Regression RMSE: {rmse_lr_eth:.4f}\")\n",
        "print(f\"Ethereum Random Forest RMSE: {rmse_rf_eth:.4f}\")\n",
        "print(f\"Ethereum KNN RMSE: {rmse_knn_eth:.4f}\")\n"
      ],
      "metadata": {
        "colab": {
          "base_uri": "https://localhost:8080/",
          "height": 222
        },
        "id": "fsJHnL35GjRh",
        "outputId": "7c96297f-2fb1-4bdb-d530-f496c94643b1"
      },
      "execution_count": null,
      "outputs": [
        {
          "output_type": "error",
          "ename": "NameError",
          "evalue": "name 'lr_eth' is not defined",
          "traceback": [
            "\u001b[0;31m---------------------------------------------------------------------------\u001b[0m",
            "\u001b[0;31mNameError\u001b[0m                                 Traceback (most recent call last)",
            "\u001b[0;32m<ipython-input-46-8cbb211d16b6>\u001b[0m in \u001b[0;36m<cell line: 0>\u001b[0;34m()\u001b[0m\n\u001b[1;32m      1\u001b[0m \u001b[0;31m# Train models for Ethereum\u001b[0m\u001b[0;34m\u001b[0m\u001b[0;34m\u001b[0m\u001b[0m\n\u001b[0;32m----> 2\u001b[0;31m \u001b[0mlr_eth\u001b[0m\u001b[0;34m.\u001b[0m\u001b[0mfit\u001b[0m\u001b[0;34m(\u001b[0m\u001b[0mX_train_eth\u001b[0m\u001b[0;34m,\u001b[0m \u001b[0my_train_eth\u001b[0m\u001b[0;34m)\u001b[0m\u001b[0;34m\u001b[0m\u001b[0;34m\u001b[0m\u001b[0m\n\u001b[0m\u001b[1;32m      3\u001b[0m \u001b[0mrf_eth\u001b[0m\u001b[0;34m.\u001b[0m\u001b[0mfit\u001b[0m\u001b[0;34m(\u001b[0m\u001b[0mX_train_eth\u001b[0m\u001b[0;34m,\u001b[0m \u001b[0my_train_eth\u001b[0m\u001b[0;34m)\u001b[0m\u001b[0;34m\u001b[0m\u001b[0;34m\u001b[0m\u001b[0m\n\u001b[1;32m      4\u001b[0m \u001b[0mknn_eth\u001b[0m\u001b[0;34m.\u001b[0m\u001b[0mfit\u001b[0m\u001b[0;34m(\u001b[0m\u001b[0mX_train_eth\u001b[0m\u001b[0;34m,\u001b[0m \u001b[0my_train_eth\u001b[0m\u001b[0;34m)\u001b[0m\u001b[0;34m\u001b[0m\u001b[0;34m\u001b[0m\u001b[0m\n\u001b[1;32m      5\u001b[0m \u001b[0;34m\u001b[0m\u001b[0m\n",
            "\u001b[0;31mNameError\u001b[0m: name 'lr_eth' is not defined"
          ]
        }
      ]
    },
    {
      "cell_type": "code",
      "source": [
        "# Import necessary libraries\n",
        "from sklearn.model_selection import train_test_split\n",
        "from sklearn.linear_model import LinearRegression\n",
        "from sklearn.ensemble import RandomForestRegressor\n",
        "from sklearn.neighbors import KNeighborsRegressor\n",
        "from sklearn.metrics import mean_squared_error\n",
        "import numpy as np\n",
        "\n",
        "# Load the Ethereum dataset (make sure you have the 'ethereum.csv' file)\n",
        "ethereum_df = pd.read_csv(\"/content/ethereum.csv\")\n",
        "\n",
        "# ... (Your existing code for feature engineering and data preprocessing) ...\n",
        "\n",
        "# Define target variable for Ethereum\n",
        "ethereum_df[\"Target\"] = ethereum_df[\"Close\"].shift(-1)\n",
        "\n",
        "# Select features and target for Ethereum\n",
        "final_features_eth = [\"Close\", \"Open\", \"Low\", \"High\"]  # Adjust as needed\n",
        "X_eth = ethereum_df[final_features_eth]\n",
        "y_eth = ethereum_df[\"Target\"]\n",
        "\n",
        "# Drop NaN values in the target variable for Ethereum\n",
        "X_eth = X_eth[~y_eth.isna()]\n",
        "y_eth = y_eth[~y_eth.isna()]\n",
        "\n",
        "# Split data for Ethereum (80% training, 20% testing)\n",
        "X_train_eth, X_test_eth, y_train_eth, y_test_eth = train_test_split(\n",
        "    X_eth, y_eth, test_size=0.2, random_state=42\n",
        ")\n",
        "\n",
        "# Initialize models for Ethereum\n",
        "lr_eth = LinearRegression()\n",
        "rf_eth = RandomForestRegressor(n_estimators=100, random_state=42)\n",
        "knn_eth = KNeighborsRegressor(n_neighbors=5)\n",
        "\n",
        "# Train models for Ethereum\n",
        "lr_eth.fit(X_train_eth, y_train_eth)\n",
        "rf_eth.fit(X_train_eth, y_train_eth)\n",
        "knn_eth.fit(X_train_eth, y_train_eth)\n",
        "\n",
        "# Predictions for Ethereum\n",
        "y_pred_lr_eth = lr_eth.predict(X_test_eth)\n",
        "y_pred_rf_eth = rf_eth.predict(X_test_eth)\n",
        "y_pred_knn_eth = knn_eth.predict(X_test_eth)\n",
        "\n",
        "# RMSE Calculation for Ethereum\n",
        "rmse_lr_eth = np.sqrt(mean_squared_error(y_test_eth, y_pred_lr_eth))\n",
        "rmse_rf_eth = np.sqrt(mean_squared_error(y_test_eth, y_pred_rf_eth))\n",
        "rmse_knn_eth = np.sqrt(mean_squared_error(y_test_eth, y_pred_knn_eth))\n",
        "\n",
        "# Display RMSE results\n",
        "print(f\"Ethereum Linear Regression RMSE: {rmse_lr_eth:.4f}\")\n",
        "print(f\"Ethereum Random Forest RMSE: {rmse_rf_eth:.4f}\")\n",
        "print(f\"Ethereum KNN RMSE: {rmse_knn_eth:.4f}\")"
      ],
      "metadata": {
        "colab": {
          "base_uri": "https://localhost:8080/"
        },
        "id": "U44aqrX9HYA0",
        "outputId": "648e8ed7-9b70-4c27-9cde-bb6b67743dcb"
      },
      "execution_count": null,
      "outputs": [
        {
          "output_type": "stream",
          "name": "stdout",
          "text": [
            "Ethereum Linear Regression RMSE: 73.4501\n",
            "Ethereum Random Forest RMSE: 82.7598\n",
            "Ethereum KNN RMSE: 82.7338\n"
          ]
        }
      ]
    },
    {
      "cell_type": "code",
      "source": [
        "import pandas as pd\n",
        "import matplotlib.pyplot as plt\n",
        "import seaborn as sns\n",
        "\n",
        "# Load Ethereum dataset\n",
        "eth_file_path = \"/mnt/data/ethereum.csv\"\n",
        "ethereum_df = pd.read_csv(\"/content/ethereum.csv\")\n",
        "\n",
        "# Convert Date column to datetime format (if exists)\n",
        "if 'Date' in ethereum_df.columns:\n",
        "    ethereum_df['Date'] = pd.to_datetime(ethereum_df['Date'])\n",
        "\n",
        "# Check for missing columns and drop non-numeric columns for correlation analysis\n",
        "eth_numeric_columns = ['Open', 'High', 'Low', 'Close']\n",
        "if 'Volume' in ethereum_df.columns:\n",
        "    eth_numeric_columns.append('Volume')\n",
        "\n",
        "# Compute correlation matrix\n",
        "eth_correlation = ethereum_df[eth_numeric_columns].corr()\n",
        "\n",
        "# Plot correlation heatmap\n",
        "plt.figure(figsize=(6, 4))\n",
        "sns.heatmap(eth_correlation, annot=True, cmap=\"coolwarm\", fmt=\".2f\", linewidths=0.5)\n",
        "plt.title(\"Ethereum Feature Correlation Matrix\")\n",
        "plt.show()\n"
      ],
      "metadata": {
        "colab": {
          "base_uri": "https://localhost:8080/",
          "height": 391
        },
        "id": "stoXu1xOKmun",
        "outputId": "c83344a9-455c-4b75-a7a5-b650f86759bd"
      },
      "execution_count": null,
      "outputs": [
        {
          "output_type": "display_data",
          "data": {
            "text/plain": [
              "<Figure size 600x400 with 2 Axes>"
            ],
            "image/png": "[encoded data removed]"
          },
          "metadata": {}
        }
      ]
    },
    {
      "cell_type": "code",
      "source": [
        "# Plot ETH vs BTC price trends over time\n",
        "\n",
        "# Load Ethereum and Bitcoin datasets\n",
        "btc_file_path = \"/content/Bitcoin dataset.csv\"\n",
        "eth_file_path = \"/content/ethereum.csv\"\n",
        "\n",
        "# Load data\n",
        "bitcoin_df = pd.read_csv(btc_file_path)\n",
        "ethereum_df = pd.read_csv(eth_file_path)\n",
        "\n",
        "# Convert Date column to datetime format (if it exists)\n",
        "if 'Date' in bitcoin_df.columns and 'Date' in ethereum_df.columns:\n",
        "    bitcoin_df['Date'] = pd.to_datetime(bitcoin_df['Date'])\n",
        "    ethereum_df['Date'] = pd.to_datetime(ethereum_df['Date'])\n",
        "\n",
        "# Merge datasets on Date for comparison\n",
        "merged_df = pd.merge(bitcoin_df[['Date', 'Close']], ethereum_df[['Date', 'Close']], on='Date', suffixes=('_BTC', '_ETH'))\n",
        "\n",
        "# Plot Bitcoin vs Ethereum closing prices over time\n",
        "plt.figure(figsize=(10, 5))\n",
        "plt.plot(merged_df['Date'], merged_df['Close_BTC'], label=\"Bitcoin Price\", color='skyblue', linewidth=2)\n",
        "plt.plot(merged_df['Date'], merged_df['Close_ETH'], label=\"Ethereum Price\", color='gold', linewidth=2)\n",
        "plt.xlabel(\"Date\")\n",
        "plt.ylabel(\"Closing Price (USD)\")\n",
        "plt.title(\"Bitcoin vs Ethereum Price Trends Over Time\")\n",
        "plt.legend()\n",
        "plt.grid(True)\n",
        "plt.show()\n"
      ],
      "metadata": {
        "colab": {
          "base_uri": "https://localhost:8080/",
          "height": 520
        },
        "id": "czP2d96YMb23",
        "outputId": "9107dd43-ede1-485f-f9af-e7e32eed921f"
      },
      "execution_count": null,
      "outputs": [
        {
          "output_type": "stream",
          "name": "stderr",
          "text": [
            "<ipython-input-6-354dcb4a9213>:13: UserWarning: Parsing dates in %d/%m/%Y format when dayfirst=False (the default) was specified. Pass `dayfirst=True` or specify a format to silence this warning.\n",
            "  bitcoin_df['Date'] = pd.to_datetime(bitcoin_df['Date'])\n"
          ]
        },
        {
          "output_type": "display_data",
          "data": {
            "text/plain": [
              "<Figure size 1000x500 with 1 Axes>"
            ],
            "image/png": "[encoded data removed]"
          },
          "metadata": {}
        }
      ]
    }
  ]
}